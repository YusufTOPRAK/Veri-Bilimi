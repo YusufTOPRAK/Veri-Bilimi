{
 "cells": [
  {
   "cell_type": "code",
   "execution_count": 1,
   "id": "d37fb603",
   "metadata": {},
   "outputs": [],
   "source": [
    "import numpy as np"
   ]
  },
  {
   "cell_type": "markdown",
   "id": "79d1a3ae",
   "metadata": {},
   "source": [
    "SCALAR:\n",
    "- 0 boyutludur(boyutsuz)\n",
    "- Bir noktayı temsil eder."
   ]
  },
  {
   "cell_type": "code",
   "execution_count": 3,
   "id": "c6d0a554",
   "metadata": {},
   "outputs": [
    {
     "data": {
      "text/plain": [
       "array(21)"
      ]
     },
     "execution_count": 3,
     "metadata": {},
     "output_type": "execute_result"
    }
   ],
   "source": [
    "scaler = np.array(21)\n",
    "scaler"
   ]
  },
  {
   "cell_type": "code",
   "execution_count": 18,
   "id": "f217f2ae",
   "metadata": {},
   "outputs": [
    {
     "data": {
      "text/plain": [
       "0"
      ]
     },
     "execution_count": 18,
     "metadata": {},
     "output_type": "execute_result"
    }
   ],
   "source": [
    "scaler.ndim # boyutunu gösterir. boyut yok/boyutsuz"
   ]
  },
  {
   "cell_type": "markdown",
   "id": "9610d957",
   "metadata": {},
   "source": [
    "VEKTÖR:\n",
    "- 1 boyutludur.\n",
    "- Tek bir doğruyu temsil eder.\n",
    "- Tek satır veya tek sütundur."
   ]
  },
  {
   "cell_type": "code",
   "execution_count": 4,
   "id": "970f55fe",
   "metadata": {},
   "outputs": [
    {
     "data": {
      "text/plain": [
       "array([1, 2, 3])"
      ]
     },
     "execution_count": 4,
     "metadata": {},
     "output_type": "execute_result"
    }
   ],
   "source": [
    "vektor = np.array([1,2,3]) \n",
    "vektor "
   ]
  },
  {
   "cell_type": "code",
   "execution_count": 19,
   "id": "61d2dea2",
   "metadata": {},
   "outputs": [
    {
     "data": {
      "text/plain": [
       "1"
      ]
     },
     "execution_count": 19,
     "metadata": {},
     "output_type": "execute_result"
    }
   ],
   "source": [
    "vektor.ndim # değer tek bir satır(1 boyut) olarak döndü."
   ]
  },
  {
   "cell_type": "markdown",
   "id": "d10e200a",
   "metadata": {},
   "source": [
    "MATRİS:\n",
    "- 2 boyutludur.\n",
    "- Eni ve boyu vardır.(en ve boy örnek olarak kullanılmıştır.)\n",
    "- Satırlar ve kolonlardan oluşur."
   ]
  },
  {
   "cell_type": "code",
   "execution_count": 9,
   "id": "35938c61",
   "metadata": {},
   "outputs": [
    {
     "data": {
      "text/plain": [
       "array([[1, 2, 3],\n",
       "       [1, 2, 3],\n",
       "       [1, 2, 3]])"
      ]
     },
     "execution_count": 9,
     "metadata": {},
     "output_type": "execute_result"
    }
   ],
   "source": [
    "matris = np.array([\n",
    "                  [1,2,3],\n",
    "                  [1,2,3],\n",
    "                  [1,2,3]  \n",
    "                ])\n",
    "matris "
   ]
  },
  {
   "cell_type": "code",
   "execution_count": 10,
   "id": "fa9f89fc",
   "metadata": {},
   "outputs": [
    {
     "data": {
      "text/plain": [
       "array([[1, 2, 3],\n",
       "       [1, 2, 3]])"
      ]
     },
     "execution_count": 10,
     "metadata": {},
     "output_type": "execute_result"
    }
   ],
   "source": [
    "matris2 = np.array([[1,2,3], [1,2,3]])\n",
    "matris2"
   ]
  },
  {
   "cell_type": "code",
   "execution_count": 20,
   "id": "1089aadb",
   "metadata": {},
   "outputs": [
    {
     "data": {
      "text/plain": [
       "2"
      ]
     },
     "execution_count": 20,
     "metadata": {},
     "output_type": "execute_result"
    }
   ],
   "source": [
    "matris2.ndim # değer iki satır ve iki kolon(2 boyut) olarak döndü."
   ]
  },
  {
   "cell_type": "markdown",
   "id": "c0f2cc3e",
   "metadata": {},
   "source": [
    "TENSÖR:\n",
    "- 3 boyutludur."
   ]
  },
  {
   "cell_type": "code",
   "execution_count": 22,
   "id": "e829a64c",
   "metadata": {},
   "outputs": [
    {
     "data": {
      "text/plain": [
       "array([[[1, 2, 3],\n",
       "        [1, 2, 3]],\n",
       "\n",
       "       [[1, 2, 3],\n",
       "        [1, 2, 3]]])"
      ]
     },
     "execution_count": 22,
     "metadata": {},
     "output_type": "execute_result"
    }
   ],
   "source": [
    "tensor = np.array([ # tensör ayracı\n",
    "    [ # 1. matris ayracı\n",
    "        [1,2,3], [1,2,3] # iki liste birer vektördür.\n",
    "    ], \n",
    "    [ # 2. matris ayracı\n",
    "        [1,2,3], [1,2,3]\n",
    "    ]\n",
    "]) \n",
    "tensor"
   ]
  },
  {
   "cell_type": "code",
   "execution_count": 13,
   "id": "2a7ac561",
   "metadata": {},
   "outputs": [
    {
     "data": {
      "text/plain": [
       "3"
      ]
     },
     "execution_count": 13,
     "metadata": {},
     "output_type": "execute_result"
    }
   ],
   "source": [
    "tensor.ndim # değer 3 boyutlu olarak döndü."
   ]
  },
  {
   "cell_type": "code",
   "execution_count": 58,
   "id": "ad9bf646",
   "metadata": {},
   "outputs": [
    {
     "data": {
      "text/plain": [
       "array([[[1, 2, 3],\n",
       "        [1, 2, 3],\n",
       "        [1, 2, 3]],\n",
       "\n",
       "       [[1, 2, 3],\n",
       "        [1, 2, 3],\n",
       "        [1, 2, 3]],\n",
       "\n",
       "       [[1, 2, 3],\n",
       "        [1, 2, 3],\n",
       "        [1, 2, 3]],\n",
       "\n",
       "       [[1, 2, 3],\n",
       "        [1, 2, 3],\n",
       "        [1, 2, 3]]])"
      ]
     },
     "execution_count": 58,
     "metadata": {},
     "output_type": "execute_result"
    }
   ],
   "source": [
    "tensor2 = np.array([[\n",
    "                        [1, 2, 3], [1, 2, 3], [1, 2, 3]\n",
    "                    ],\n",
    "                    [\n",
    "                        [1, 2, 3], [1, 2, 3], [1, 2, 3]\n",
    "                    ],\n",
    "                    [\n",
    "                        [1, 2, 3], [1, 2, 3], [1, 2, 3]\n",
    "                    ],\n",
    "                    [\n",
    "                        [1, 2, 3], [1, 2, 3], [1, 2, 3]\n",
    "                    ]\n",
    "])\n",
    "tensor2"
   ]
  },
  {
   "cell_type": "code",
   "execution_count": 59,
   "id": "a7a496e4",
   "metadata": {},
   "outputs": [
    {
     "data": {
      "text/plain": [
       "3"
      ]
     },
     "execution_count": 59,
     "metadata": {},
     "output_type": "execute_result"
    }
   ],
   "source": [
    "tensor2.ndim"
   ]
  },
  {
   "cell_type": "markdown",
   "id": "64acfc9a",
   "metadata": {},
   "source": [
    "##### NOT:\n",
    "- Tensörler içerisinde matrisleri, matrisler vektörleri, vektörler ise skaler değerleri barındırır."
   ]
  },
  {
   "cell_type": "markdown",
   "id": "f3740f7a",
   "metadata": {},
   "source": [
    "# size, shape, ndim, dtype\n",
    "- size: Kaç elemandan oluştuğunun sayısını verir.\n",
    "- shape: Kolon ve satır ya da boy ve en uzunluğunu verir.(Şeklini verir)\n",
    "- ndim: Boyutunu verir.\n",
    "- dtype: Elemanların tipini verir."
   ]
  },
  {
   "cell_type": "code",
   "execution_count": 40,
   "id": "8b2eb634",
   "metadata": {},
   "outputs": [],
   "source": [
    "vektor = np.array([1,2,3,4,5,6])\n",
    "matris = np.array([[1,2,3,4,5,6],[1,2,3,4,5,6]])\n",
    "tensor = np.array([\n",
    "    [[1,2,3,4,5,6,7,8],[1,2,3,4,5,6,7,8],[1,2,3,4,5,6,7,8]],\n",
    "    [[1,2,3,4,5,6,7,8],[1,2,3,4,5,6,7,8],[1,2,3,4,5,6,7,8]],\n",
    "    [[1,2,3,4,5,6,7,8],[1,2,3,4,5,6,7,8],[1,2,3,4,5,6,7,8]],\n",
    "    [[1,2,3,4,5,6,7,8],[1,2,3,4,5,6,7,8],[1,2,3,4,5,6,7,8]]\n",
    "])"
   ]
  },
  {
   "cell_type": "code",
   "execution_count": 16,
   "id": "b20c1b29",
   "metadata": {},
   "outputs": [
    {
     "data": {
      "text/plain": [
       "array([1, 2, 3, 4, 5, 6])"
      ]
     },
     "execution_count": 16,
     "metadata": {},
     "output_type": "execute_result"
    }
   ],
   "source": [
    "vektor"
   ]
  },
  {
   "cell_type": "code",
   "execution_count": 46,
   "id": "b60161e4",
   "metadata": {},
   "outputs": [
    {
     "data": {
      "text/plain": [
       "1"
      ]
     },
     "execution_count": 46,
     "metadata": {},
     "output_type": "execute_result"
    }
   ],
   "source": [
    "vektor.ndim"
   ]
  },
  {
   "cell_type": "code",
   "execution_count": 17,
   "id": "884b00bc",
   "metadata": {},
   "outputs": [
    {
     "data": {
      "text/plain": [
       "6"
      ]
     },
     "execution_count": 17,
     "metadata": {},
     "output_type": "execute_result"
    }
   ],
   "source": [
    "vektor.size"
   ]
  },
  {
   "cell_type": "code",
   "execution_count": 18,
   "id": "34ab5920",
   "metadata": {},
   "outputs": [
    {
     "data": {
      "text/plain": [
       "(6,)"
      ]
     },
     "execution_count": 18,
     "metadata": {},
     "output_type": "execute_result"
    }
   ],
   "source": [
    "vektor.shape"
   ]
  },
  {
   "cell_type": "code",
   "execution_count": 49,
   "id": "011616b9",
   "metadata": {},
   "outputs": [
    {
     "data": {
      "text/plain": [
       "dtype('int32')"
      ]
     },
     "execution_count": 49,
     "metadata": {},
     "output_type": "execute_result"
    }
   ],
   "source": [
    "vektor.dtype"
   ]
  },
  {
   "cell_type": "code",
   "execution_count": 19,
   "id": "93f2cde0",
   "metadata": {},
   "outputs": [
    {
     "data": {
      "text/plain": [
       "array([[1, 2, 3, 4, 5, 6],\n",
       "       [1, 2, 3, 4, 5, 6]])"
      ]
     },
     "execution_count": 19,
     "metadata": {},
     "output_type": "execute_result"
    }
   ],
   "source": [
    "matris"
   ]
  },
  {
   "cell_type": "code",
   "execution_count": 47,
   "id": "28dedeaa",
   "metadata": {},
   "outputs": [
    {
     "data": {
      "text/plain": [
       "2"
      ]
     },
     "execution_count": 47,
     "metadata": {},
     "output_type": "execute_result"
    }
   ],
   "source": [
    "matris.ndim"
   ]
  },
  {
   "cell_type": "code",
   "execution_count": 20,
   "id": "6fd9c613",
   "metadata": {},
   "outputs": [
    {
     "data": {
      "text/plain": [
       "12"
      ]
     },
     "execution_count": 20,
     "metadata": {},
     "output_type": "execute_result"
    }
   ],
   "source": [
    "matris.size"
   ]
  },
  {
   "cell_type": "code",
   "execution_count": 21,
   "id": "09da91fa",
   "metadata": {},
   "outputs": [
    {
     "data": {
      "text/plain": [
       "(2, 6)"
      ]
     },
     "execution_count": 21,
     "metadata": {},
     "output_type": "execute_result"
    }
   ],
   "source": [
    "matris.shape "
   ]
  },
  {
   "cell_type": "code",
   "execution_count": 50,
   "id": "06a7e112",
   "metadata": {},
   "outputs": [
    {
     "data": {
      "text/plain": [
       "dtype('int32')"
      ]
     },
     "execution_count": 50,
     "metadata": {},
     "output_type": "execute_result"
    }
   ],
   "source": [
    "matris.dtype"
   ]
  },
  {
   "cell_type": "code",
   "execution_count": 41,
   "id": "5af9fa22",
   "metadata": {},
   "outputs": [
    {
     "data": {
      "text/plain": [
       "array([[[1, 2, 3, 4, 5, 6, 7, 8],\n",
       "        [1, 2, 3, 4, 5, 6, 7, 8],\n",
       "        [1, 2, 3, 4, 5, 6, 7, 8]],\n",
       "\n",
       "       [[1, 2, 3, 4, 5, 6, 7, 8],\n",
       "        [1, 2, 3, 4, 5, 6, 7, 8],\n",
       "        [1, 2, 3, 4, 5, 6, 7, 8]],\n",
       "\n",
       "       [[1, 2, 3, 4, 5, 6, 7, 8],\n",
       "        [1, 2, 3, 4, 5, 6, 7, 8],\n",
       "        [1, 2, 3, 4, 5, 6, 7, 8]],\n",
       "\n",
       "       [[1, 2, 3, 4, 5, 6, 7, 8],\n",
       "        [1, 2, 3, 4, 5, 6, 7, 8],\n",
       "        [1, 2, 3, 4, 5, 6, 7, 8]]])"
      ]
     },
     "execution_count": 41,
     "metadata": {},
     "output_type": "execute_result"
    }
   ],
   "source": [
    "tensor"
   ]
  },
  {
   "cell_type": "code",
   "execution_count": 48,
   "id": "48e7cb23",
   "metadata": {},
   "outputs": [
    {
     "data": {
      "text/plain": [
       "3"
      ]
     },
     "execution_count": 48,
     "metadata": {},
     "output_type": "execute_result"
    }
   ],
   "source": [
    "tensor.ndim"
   ]
  },
  {
   "cell_type": "code",
   "execution_count": 42,
   "id": "00edf6cc",
   "metadata": {},
   "outputs": [
    {
     "data": {
      "text/plain": [
       "96"
      ]
     },
     "execution_count": 42,
     "metadata": {},
     "output_type": "execute_result"
    }
   ],
   "source": [
    "tensor.size"
   ]
  },
  {
   "cell_type": "code",
   "execution_count": 45,
   "id": "c4f1de2f",
   "metadata": {},
   "outputs": [
    {
     "data": {
      "text/plain": [
       "(4, 3, 8)"
      ]
     },
     "execution_count": 45,
     "metadata": {},
     "output_type": "execute_result"
    }
   ],
   "source": [
    "tensor.shape \n",
    "# ilk değer: matris sayısı, ikinci değer: bir matristeki vektör sayısı, üçüncü değer: bir vektör içindeki skaler(eleman) sayısı"
   ]
  },
  {
   "cell_type": "code",
   "execution_count": 51,
   "id": "47458d20",
   "metadata": {},
   "outputs": [
    {
     "data": {
      "text/plain": [
       "dtype('int32')"
      ]
     },
     "execution_count": 51,
     "metadata": {},
     "output_type": "execute_result"
    }
   ],
   "source": [
    "tensor.dtype"
   ]
  },
  {
   "cell_type": "markdown",
   "id": "91efc612",
   "metadata": {},
   "source": [
    "# VERİ TİPİ DEĞİŞTİRME\n",
    "- astype() \n",
    "- Dönüştürebileceği formatlarda kullanılır. Yani int32 tipi int64'e veya float64'e dönüştürülebilir fakat metine dönüştürülemez."
   ]
  },
  {
   "cell_type": "code",
   "execution_count": 13,
   "id": "d2c29a73",
   "metadata": {},
   "outputs": [
    {
     "name": "stdout",
     "output_type": "stream",
     "text": [
      "[1 2 3 4 5]\n"
     ]
    },
    {
     "data": {
      "text/plain": [
       "dtype('int32')"
      ]
     },
     "execution_count": 13,
     "metadata": {},
     "output_type": "execute_result"
    }
   ],
   "source": [
    "sayilar = np.array([1,2,3,4,5])\n",
    "print(sayilar)\n",
    "sayilar.dtype"
   ]
  },
  {
   "cell_type": "code",
   "execution_count": 11,
   "id": "8c742acf",
   "metadata": {},
   "outputs": [
    {
     "name": "stdout",
     "output_type": "stream",
     "text": [
      "[1.  2.2 3.  4.  5. ]\n"
     ]
    },
    {
     "data": {
      "text/plain": [
       "dtype('float64')"
      ]
     },
     "execution_count": 11,
     "metadata": {},
     "output_type": "execute_result"
    }
   ],
   "source": [
    "sayilar2 = np.array([1,2.2,3,4,5])# array içinde 1 tane bile float değer bulunması bu dizinin türünün float olması için yeterli.\n",
    "print(sayilar2)\n",
    "sayilar2.dtype"
   ]
  },
  {
   "cell_type": "code",
   "execution_count": 17,
   "id": "d47b7502",
   "metadata": {},
   "outputs": [
    {
     "data": {
      "text/plain": [
       "array([1., 2., 3., 4., 5.])"
      ]
     },
     "execution_count": 17,
     "metadata": {},
     "output_type": "execute_result"
    }
   ],
   "source": [
    "sayilar.astype(\"float64\") # kalıcı olması için kendi değikenine atanmalı.(sayilar=sayilar.astype(\"int64\"))"
   ]
  },
  {
   "cell_type": "code",
   "execution_count": 20,
   "id": "73d758be",
   "metadata": {},
   "outputs": [
    {
     "ename": "ValueError",
     "evalue": "invalid literal for int() with base 10: 'a'",
     "output_type": "error",
     "traceback": [
      "\u001b[1;31m---------------------------------------------------------------------------\u001b[0m",
      "\u001b[1;31mValueError\u001b[0m                                Traceback (most recent call last)",
      "Cell \u001b[1;32mIn[20], line 3\u001b[0m\n\u001b[0;32m      1\u001b[0m isim \u001b[38;5;241m=\u001b[39m np\u001b[38;5;241m.\u001b[39marray([\u001b[38;5;124m\"\u001b[39m\u001b[38;5;124ma\u001b[39m\u001b[38;5;124m\"\u001b[39m, \u001b[38;5;124m\"\u001b[39m\u001b[38;5;124mb\u001b[39m\u001b[38;5;124m\"\u001b[39m, \u001b[38;5;124m\"\u001b[39m\u001b[38;5;124mc\u001b[39m\u001b[38;5;124m\"\u001b[39m])\n\u001b[0;32m      2\u001b[0m isim\u001b[38;5;241m.\u001b[39mdtype\n\u001b[1;32m----> 3\u001b[0m \u001b[43misim\u001b[49m\u001b[38;5;241;43m.\u001b[39;49m\u001b[43mastype\u001b[49m\u001b[43m(\u001b[49m\u001b[38;5;124;43m\"\u001b[39;49m\u001b[38;5;124;43mint64\u001b[39;49m\u001b[38;5;124;43m\"\u001b[39;49m\u001b[43m)\u001b[49m\n",
      "\u001b[1;31mValueError\u001b[0m: invalid literal for int() with base 10: 'a'"
     ]
    }
   ],
   "source": [
    "isim = np.array([\"a\", \"b\", \"c\"])\n",
    "isim.dtype\n",
    "isim.astype(\"int64\") # Hata verir."
   ]
  },
  {
   "cell_type": "markdown",
   "id": "256111f6",
   "metadata": {},
   "source": [
    "// Dizi Oluşturulurken Tipleri Belirleme //"
   ]
  },
  {
   "cell_type": "code",
   "execution_count": 21,
   "id": "ca8d577e",
   "metadata": {},
   "outputs": [
    {
     "name": "stdout",
     "output_type": "stream",
     "text": [
      "[1 2 3 4 5 6]\n"
     ]
    },
    {
     "data": {
      "text/plain": [
       "dtype('int8')"
      ]
     },
     "execution_count": 21,
     "metadata": {},
     "output_type": "execute_result"
    }
   ],
   "source": [
    "sayilar3 = np.array([1,2,3,4,5,6], dtype=\"int8\")\n",
    "print(sayilar3)\n",
    "sayilar3.dtype"
   ]
  },
  {
   "cell_type": "code",
   "execution_count": 41,
   "id": "edc1696d",
   "metadata": {},
   "outputs": [
    {
     "name": "stdout",
     "output_type": "stream",
     "text": [
      "['2024-03-21']\n",
      "<U10: Önceki tip\n",
      "['2024-03-21']\n",
      "datetime64[D]: Dönüştürülen tip\n"
     ]
    }
   ],
   "source": [
    "tarih = np.array([\"2024-03-21\"]) # yıl-ay-gün\n",
    "print(tarih)\n",
    "print(f\"{tarih.dtype}: Önceki tip\")\n",
    "\n",
    "tarih = tarih.astype(\"datetime64\") # dönüşüm\n",
    "print(tarih)\n",
    "print(f\"{tarih.dtype}: Dönüştürülen tip\")"
   ]
  },
  {
   "cell_type": "markdown",
   "id": "2156cccc",
   "metadata": {},
   "source": [
    "# Slicing"
   ]
  },
  {
   "cell_type": "code",
   "execution_count": 5,
   "id": "20c51930",
   "metadata": {},
   "outputs": [
    {
     "data": {
      "text/plain": [
       "array([20, 21, 22, 23, 24, 25, 26, 27, 28, 29])"
      ]
     },
     "execution_count": 5,
     "metadata": {},
     "output_type": "execute_result"
    }
   ],
   "source": [
    "a = np.arange(20,30)\n",
    "a"
   ]
  },
  {
   "cell_type": "code",
   "execution_count": 6,
   "id": "ae5bbde8",
   "metadata": {},
   "outputs": [
    {
     "data": {
      "text/plain": [
       "23"
      ]
     },
     "execution_count": 6,
     "metadata": {},
     "output_type": "execute_result"
    }
   ],
   "source": [
    "a[3] # 3.index'i getirir."
   ]
  },
  {
   "cell_type": "code",
   "execution_count": 7,
   "id": "6e0b43ec",
   "metadata": {},
   "outputs": [
    {
     "data": {
      "text/plain": [
       "array([24, 25, 26])"
      ]
     },
     "execution_count": 7,
     "metadata": {},
     "output_type": "execute_result"
    }
   ],
   "source": [
    "a[4:7] # 4.indexten(dahil) 7.index(dahil deği)'e kadar"
   ]
  },
  {
   "cell_type": "code",
   "execution_count": 8,
   "id": "b7431ac4",
   "metadata": {},
   "outputs": [
    {
     "data": {
      "text/plain": [
       "array([20, 21, 22, 23, 24])"
      ]
     },
     "execution_count": 8,
     "metadata": {},
     "output_type": "execute_result"
    }
   ],
   "source": [
    "a[:5] # 5.indexten öncesini getirir."
   ]
  },
  {
   "cell_type": "code",
   "execution_count": 10,
   "id": "8db616c9",
   "metadata": {},
   "outputs": [
    {
     "data": {
      "text/plain": [
       "array([23, 25, 27, 29])"
      ]
     },
     "execution_count": 10,
     "metadata": {},
     "output_type": "execute_result"
    }
   ],
   "source": [
    "a[3::2] # 3.index'ten başlayarak 2'şer arttırarak döndürme"
   ]
  },
  {
   "cell_type": "code",
   "execution_count": 14,
   "id": "f4b144d1",
   "metadata": {},
   "outputs": [
    {
     "data": {
      "text/plain": [
       "[21, 23, 27]"
      ]
     },
     "execution_count": 14,
     "metadata": {},
     "output_type": "execute_result"
    }
   ],
   "source": [
    "[a[1], a[3], a[7]] # birden fazla slice işlemini aynı anda yapma"
   ]
  },
  {
   "cell_type": "markdown",
   "id": "9d7cf4a9",
   "metadata": {},
   "source": [
    "# Fancy Index "
   ]
  },
  {
   "cell_type": "code",
   "execution_count": 15,
   "id": "945bf239",
   "metadata": {},
   "outputs": [
    {
     "data": {
      "text/plain": [
       "array([ 0,  3,  6,  9, 12, 15, 18, 21, 24, 27])"
      ]
     },
     "execution_count": 15,
     "metadata": {},
     "output_type": "execute_result"
    }
   ],
   "source": [
    "c = np.arange(0,30,3)\n",
    "c"
   ]
  },
  {
   "cell_type": "code",
   "execution_count": 16,
   "id": "78ee94da",
   "metadata": {},
   "outputs": [
    {
     "data": {
      "text/plain": [
       "array([ 9, 12, 15])"
      ]
     },
     "execution_count": 16,
     "metadata": {},
     "output_type": "execute_result"
    }
   ],
   "source": [
    "secim = [3,4,5]\n",
    "c[secim] # secim listesinde tanımlanan sayıları index olarak algıladı ve getirdi."
   ]
  },
  {
   "cell_type": "markdown",
   "id": "2a25a186",
   "metadata": {},
   "source": [
    "Matrislerde Fancy Index"
   ]
  },
  {
   "cell_type": "code",
   "execution_count": 18,
   "id": "df95cb5c",
   "metadata": {},
   "outputs": [
    {
     "data": {
      "text/plain": [
       "array([[0, 1, 2],\n",
       "       [3, 4, 5],\n",
       "       [6, 7, 8]])"
      ]
     },
     "execution_count": 18,
     "metadata": {},
     "output_type": "execute_result"
    }
   ],
   "source": [
    "c2 = np.arange(9).reshape(3,3)\n",
    "c2"
   ]
  },
  {
   "cell_type": "code",
   "execution_count": 27,
   "id": "5d076a55",
   "metadata": {},
   "outputs": [
    {
     "data": {
      "text/plain": [
       "array([3, 7])"
      ]
     },
     "execution_count": 27,
     "metadata": {},
     "output_type": "execute_result"
    }
   ],
   "source": [
    "satir_secim = np.array([1,2])\n",
    "sutun_secim = np.array([0,1])\n",
    "c2[satir_secim, sutun_secim]"
   ]
  },
  {
   "cell_type": "code",
   "execution_count": 33,
   "id": "b39b5752",
   "metadata": {},
   "outputs": [
    {
     "data": {
      "text/plain": [
       "array([[1, 2],\n",
       "       [4, 5],\n",
       "       [7, 8]])"
      ]
     },
     "execution_count": 33,
     "metadata": {},
     "output_type": "execute_result"
    }
   ],
   "source": [
    "c2[0:, [1,2]] # slice ve fancy index birlikte kullanımı"
   ]
  },
  {
   "cell_type": "markdown",
   "id": "a26adda7",
   "metadata": {},
   "source": [
    "# MATRİSLERDE SLICE İŞLEMİ"
   ]
  },
  {
   "cell_type": "code",
   "execution_count": 11,
   "id": "ee7bc922",
   "metadata": {},
   "outputs": [
    {
     "data": {
      "text/plain": [
       "array([[ 1,  2,  3,  4],\n",
       "       [ 5,  6,  7,  8],\n",
       "       [ 9, 10, 11, 12],\n",
       "       [13, 14, 15, 16]])"
      ]
     },
     "execution_count": 11,
     "metadata": {},
     "output_type": "execute_result"
    }
   ],
   "source": [
    "matris = np.array([\n",
    "    [1,2,3,4],\n",
    "    [5,6,7,8],\n",
    "    [9,10,11,12],\n",
    "    [13,14,15,16]\n",
    "])\n",
    "matris"
   ]
  },
  {
   "cell_type": "code",
   "execution_count": 33,
   "id": "692cf832",
   "metadata": {},
   "outputs": [
    {
     "data": {
      "text/plain": [
       "(4, 4)"
      ]
     },
     "execution_count": 33,
     "metadata": {},
     "output_type": "execute_result"
    }
   ],
   "source": [
    "matris.shape # ilk değer: kolon sayısı, ikinci değer: satır sayısı"
   ]
  },
  {
   "cell_type": "code",
   "execution_count": 34,
   "id": "95763467",
   "metadata": {},
   "outputs": [
    {
     "data": {
      "text/plain": [
       "array([1, 2, 3, 4])"
      ]
     },
     "execution_count": 34,
     "metadata": {},
     "output_type": "execute_result"
    }
   ],
   "source": [
    "matris[0] # İlk satırı/ilk vektörü verir."
   ]
  },
  {
   "cell_type": "code",
   "execution_count": 35,
   "id": "2045e285",
   "metadata": {},
   "outputs": [
    {
     "data": {
      "text/plain": [
       "array([[ 5,  6,  7,  8],\n",
       "       [ 9, 10, 11, 12]])"
      ]
     },
     "execution_count": 35,
     "metadata": {},
     "output_type": "execute_result"
    }
   ],
   "source": [
    "matris[1:3] # 1.vektörden(dahil) 3.vektöre(dahil değil) kadar olanı verir."
   ]
  },
  {
   "cell_type": "code",
   "execution_count": 39,
   "id": "2ec39bc1",
   "metadata": {},
   "outputs": [
    {
     "data": {
      "text/plain": [
       "12"
      ]
     },
     "execution_count": 39,
     "metadata": {},
     "output_type": "execute_result"
    }
   ],
   "source": [
    "matris[2, 3] # ilk değer hangi vektör olacağını(satır),\n",
    "             # ikinci değer o vektörün kaçıncı elemanı olacağını(kolon) belirler. Yani 2.vektörün 3.elemanı."
   ]
  },
  {
   "cell_type": "code",
   "execution_count": 58,
   "id": "161b5ec3",
   "metadata": {},
   "outputs": [
    {
     "data": {
      "text/plain": [
       "array([ 3,  7, 11, 15])"
      ]
     },
     "execution_count": 58,
     "metadata": {},
     "output_type": "execute_result"
    }
   ],
   "source": [
    "matris[:, 2] # tüm vektörlerin 2.elemanını(tüm satırların 2.kolonu) getir"
   ]
  },
  {
   "cell_type": "code",
   "execution_count": 59,
   "id": "a30dfbfd",
   "metadata": {},
   "outputs": [
    {
     "data": {
      "text/plain": [
       "array([[ 2,  3],\n",
       "       [ 6,  7],\n",
       "       [10, 11],\n",
       "       [14, 15]])"
      ]
     },
     "execution_count": 59,
     "metadata": {},
     "output_type": "execute_result"
    }
   ],
   "source": [
    "matris[:, 1:3] # tüm vektörlerin 1'den 3.elemanına(tüm satırların 1'den 3.kolonuna kadar) kadar getir."
   ]
  },
  {
   "cell_type": "code",
   "execution_count": 60,
   "id": "59041960",
   "metadata": {},
   "outputs": [
    {
     "data": {
      "text/plain": [
       "array([5, 6, 7, 8])"
      ]
     },
     "execution_count": 60,
     "metadata": {},
     "output_type": "execute_result"
    }
   ],
   "source": [
    "matris[1,:] # 1.vektörün tüm kolonlarını(1.satırın tüm kolonları) getir."
   ]
  },
  {
   "cell_type": "code",
   "execution_count": 13,
   "id": "a1081996",
   "metadata": {},
   "outputs": [
    {
     "data": {
      "text/plain": [
       "array([[ 6,  7,  8],\n",
       "       [10, 11, 12]])"
      ]
     },
     "execution_count": 13,
     "metadata": {},
     "output_type": "execute_result"
    }
   ],
   "source": [
    "matris[1:3, 1:4] # 1.vektörden(satırdan)'den 3.vektöre kadar olan 1.kolondan 4.kolona kadar seçme"
   ]
  },
  {
   "cell_type": "code",
   "execution_count": 31,
   "id": "353d99ec",
   "metadata": {},
   "outputs": [
    {
     "data": {
      "text/plain": [
       "array([ 2, 15])"
      ]
     },
     "execution_count": 31,
     "metadata": {},
     "output_type": "execute_result"
    }
   ],
   "source": [
    "matris[[0,3], [1,2]]"
   ]
  },
  {
   "cell_type": "markdown",
   "id": "4367eaf0",
   "metadata": {},
   "source": [
    "# RASTGELE NUMPY DİZİLERİ OLUŞTURMA\n",
    "- numpy içindeki random kullanılır. Son değer dahil değildir."
   ]
  },
  {
   "cell_type": "code",
   "execution_count": 43,
   "id": "1e35a8ce",
   "metadata": {},
   "outputs": [
    {
     "data": {
      "text/plain": [
       "37"
      ]
     },
     "execution_count": 43,
     "metadata": {},
     "output_type": "execute_result"
    }
   ],
   "source": [
    "np.random.randint(1,45) # 1-45 arası rastegele scaler oluşturma"
   ]
  },
  {
   "cell_type": "code",
   "execution_count": 44,
   "id": "b38c1096",
   "metadata": {},
   "outputs": [
    {
     "data": {
      "text/plain": [
       "array([15,  2, 12])"
      ]
     },
     "execution_count": 44,
     "metadata": {},
     "output_type": "execute_result"
    }
   ],
   "source": [
    "np.random.randint(1,30,(3)) # 1-30 arası 3 elemandan oluşan vektör oluşturma"
   ]
  },
  {
   "cell_type": "code",
   "execution_count": 35,
   "id": "d1c7f971",
   "metadata": {},
   "outputs": [
    {
     "data": {
      "text/plain": [
       "array([[ 2,  8, 16, 12],\n",
       "       [15, 18,  4,  3],\n",
       "       [10, 13,  3,  5]])"
      ]
     },
     "execution_count": 35,
     "metadata": {},
     "output_type": "execute_result"
    }
   ],
   "source": [
    "np.random.randint(1,20,(3,4)) # 1-20 arası 4 eleman(kolon) ve 3 vektörden(satırlık) oluşan bir matris elde etm"
   ]
  },
  {
   "cell_type": "code",
   "execution_count": 46,
   "id": "524c6ac6",
   "metadata": {},
   "outputs": [
    {
     "data": {
      "text/plain": [
       "array([[[38, 31, 12,  4,  1, 76],\n",
       "        [57, 92, 22, 48, 88, 58],\n",
       "        [28, 64, 84, 84, 29, 99],\n",
       "        [64, 17, 47, 39,  9, 81]],\n",
       "\n",
       "       [[18, 91, 81, 35, 68, 62],\n",
       "        [29,  8, 20, 33, 64, 58],\n",
       "        [22, 88, 35, 83, 10, 32],\n",
       "        [62, 72, 33, 92,  9, 89]],\n",
       "\n",
       "       [[84, 17, 27, 84, 32, 70],\n",
       "        [74, 24, 90, 19, 64, 61],\n",
       "        [52, 23, 35, 27, 95, 11],\n",
       "        [59, 30, 56, 69, 54, 40]]])"
      ]
     },
     "execution_count": 46,
     "metadata": {},
     "output_type": "execute_result"
    }
   ],
   "source": [
    "np.random.randint(1,100+1,(3,4,6)) # 1-101 arası 3 matris, her bir matris için 4 vektör ve her vektör için 6 elemandan oluşan tensor oluşturma"
   ]
  },
  {
   "cell_type": "markdown",
   "id": "fe145bef",
   "metadata": {},
   "source": [
    "#  ARANG İLE NUMPY DİZİSİ OLUŞTURMA\n",
    "- Arange, belli aralıklarda sayı üretmek için kullanılır.\n",
    "- Başlangıç değeri dahil, bitiş değeri dahil değildir."
   ]
  },
  {
   "cell_type": "code",
   "execution_count": 49,
   "id": "5d978dea",
   "metadata": {},
   "outputs": [
    {
     "data": {
      "text/plain": [
       "array([  0,   1,   2,   3,   4,   5,   6,   7,   8,   9,  10,  11,  12,\n",
       "        13,  14,  15,  16,  17,  18,  19,  20,  21,  22,  23,  24,  25,\n",
       "        26,  27,  28,  29,  30,  31,  32,  33,  34,  35,  36,  37,  38,\n",
       "        39,  40,  41,  42,  43,  44,  45,  46,  47,  48,  49,  50,  51,\n",
       "        52,  53,  54,  55,  56,  57,  58,  59,  60,  61,  62,  63,  64,\n",
       "        65,  66,  67,  68,  69,  70,  71,  72,  73,  74,  75,  76,  77,\n",
       "        78,  79,  80,  81,  82,  83,  84,  85,  86,  87,  88,  89,  90,\n",
       "        91,  92,  93,  94,  95,  96,  97,  98,  99, 100, 101, 102, 103,\n",
       "       104, 105, 106, 107, 108, 109, 110, 111, 112, 113, 114, 115, 116,\n",
       "       117, 118, 119, 120, 121, 122, 123, 124, 125, 126, 127, 128, 129,\n",
       "       130, 131, 132, 133, 134, 135, 136, 137, 138, 139, 140, 141, 142,\n",
       "       143, 144, 145, 146, 147, 148, 149, 150, 151, 152, 153, 154, 155,\n",
       "       156, 157, 158, 159, 160, 161, 162, 163, 164, 165, 166, 167, 168,\n",
       "       169, 170, 171, 172, 173, 174, 175, 176, 177, 178, 179, 180, 181,\n",
       "       182, 183, 184, 185, 186, 187, 188, 189, 190, 191, 192, 193, 194,\n",
       "       195, 196, 197, 198, 199])"
      ]
     },
     "execution_count": 49,
     "metadata": {},
     "output_type": "execute_result"
    }
   ],
   "source": [
    "np.arange(200) # 0'dan 200'ye kadar sayı üretti."
   ]
  },
  {
   "cell_type": "code",
   "execution_count": 50,
   "id": "d004bd02",
   "metadata": {},
   "outputs": [
    {
     "data": {
      "text/plain": [
       "array([10, 11, 12, 13, 14, 15, 16, 17, 18, 19, 20, 21, 22, 23, 24, 25, 26,\n",
       "       27, 28, 29, 30, 31, 32, 33, 34, 35, 36, 37, 38, 39, 40, 41, 42, 43,\n",
       "       44])"
      ]
     },
     "execution_count": 50,
     "metadata": {},
     "output_type": "execute_result"
    }
   ],
   "source": [
    "np.arange(10,45) # 10'dan 45'e kadar olan değerler"
   ]
  },
  {
   "cell_type": "code",
   "execution_count": 55,
   "id": "8a0ee782",
   "metadata": {},
   "outputs": [
    {
     "data": {
      "text/plain": [
       "array([ 0,  2,  4,  6,  8, 10, 12, 14, 16, 18, 20, 22, 24, 26, 28])"
      ]
     },
     "execution_count": 55,
     "metadata": {},
     "output_type": "execute_result"
    }
   ],
   "source": [
    "np.arange(0,30,2) # 0'dan 30'a kadar olan sayıları 2'şer 2'şer getirme"
   ]
  },
  {
   "cell_type": "markdown",
   "id": "6604efd3",
   "metadata": {},
   "source": [
    "# LINSPACE KULLANIMI\n",
    "- Aralık belirtilerek getirilen değeri belirtilen parça sayısı kadar böler."
   ]
  },
  {
   "cell_type": "code",
   "execution_count": 86,
   "id": "c8d87cc9",
   "metadata": {},
   "outputs": [
    {
     "data": {
      "text/plain": [
       "array([  1.        ,  15.14285714,  29.28571429,  43.42857143,\n",
       "        57.57142857,  71.71428571,  85.85714286, 100.        ])"
      ]
     },
     "execution_count": 86,
     "metadata": {},
     "output_type": "execute_result"
    }
   ],
   "source": [
    "np.linspace(1,100,8) # 1-100 arasını 8 eş parçaya bölme"
   ]
  },
  {
   "cell_type": "markdown",
   "id": "9fd1534d",
   "metadata": {},
   "source": [
    "# reshape METODU\n",
    "- shape'i tekrar yapılandırmak için kullanılır.\n",
    "- shape'i tekrar yapılandırılacak yapının size'ı aynı olmalı. Örneğin; shape=3,4 olan bir matrisin size'ı 12'dir. shape tekrar farklı olarak belirlenecekse size yine 12 olmalıdır."
   ]
  },
  {
   "cell_type": "code",
   "execution_count": 6,
   "id": "d78760a9",
   "metadata": {},
   "outputs": [
    {
     "name": "stdout",
     "output_type": "stream",
     "text": [
      "[[ 1  2  3  4]\n",
      " [ 5  6  7  8]\n",
      " [ 9 10 11 12]]\n",
      "(3, 4)\n"
     ]
    },
    {
     "data": {
      "text/plain": [
       "12"
      ]
     },
     "execution_count": 6,
     "metadata": {},
     "output_type": "execute_result"
    }
   ],
   "source": [
    "m1 = np.array([[1,2,3,4],[5,6,7,8],[9,10,11,12]])\n",
    "print(m1)\n",
    "print(m1.shape)\n",
    "m1.size"
   ]
  },
  {
   "cell_type": "code",
   "execution_count": 7,
   "id": "5fc950e9",
   "metadata": {},
   "outputs": [
    {
     "data": {
      "text/plain": [
       "array([[ 1,  2,  3,  4,  5,  6],\n",
       "       [ 7,  8,  9, 10, 11, 12]])"
      ]
     },
     "execution_count": 7,
     "metadata": {},
     "output_type": "execute_result"
    }
   ],
   "source": [
    "m1.reshape(2,6)"
   ]
  },
  {
   "cell_type": "code",
   "execution_count": 8,
   "id": "57ae7132",
   "metadata": {},
   "outputs": [
    {
     "data": {
      "text/plain": [
       "array([[ 1,  2],\n",
       "       [ 3,  4],\n",
       "       [ 5,  6],\n",
       "       [ 7,  8],\n",
       "       [ 9, 10],\n",
       "       [11, 12]])"
      ]
     },
     "execution_count": 8,
     "metadata": {},
     "output_type": "execute_result"
    }
   ],
   "source": [
    "m1.reshape(6,2)"
   ]
  },
  {
   "cell_type": "code",
   "execution_count": 9,
   "id": "5c84b462",
   "metadata": {},
   "outputs": [
    {
     "data": {
      "text/plain": [
       "array([[ 1,  2,  3,  4,  5,  6,  7,  8,  9, 10, 11, 12]])"
      ]
     },
     "execution_count": 9,
     "metadata": {},
     "output_type": "execute_result"
    }
   ],
   "source": [
    "m1.reshape(1,12)"
   ]
  },
  {
   "cell_type": "code",
   "execution_count": 10,
   "id": "2a1fc9ab",
   "metadata": {},
   "outputs": [
    {
     "data": {
      "text/plain": [
       "array([[ 1],\n",
       "       [ 2],\n",
       "       [ 3],\n",
       "       [ 4],\n",
       "       [ 5],\n",
       "       [ 6],\n",
       "       [ 7],\n",
       "       [ 8],\n",
       "       [ 9],\n",
       "       [10],\n",
       "       [11],\n",
       "       [12]])"
      ]
     },
     "execution_count": 10,
     "metadata": {},
     "output_type": "execute_result"
    }
   ],
   "source": [
    "m1.reshape(12,1)"
   ]
  },
  {
   "cell_type": "code",
   "execution_count": 19,
   "id": "2ef8301a",
   "metadata": {},
   "outputs": [
    {
     "data": {
      "text/plain": [
       "array([[2, 4, 9, 9, 6, 9],\n",
       "       [5, 3, 3, 4, 3, 2],\n",
       "       [3, 8, 5, 9, 1, 6],\n",
       "       [3, 4, 3, 6, 7, 2],\n",
       "       [1, 2, 8, 9, 6, 3]])"
      ]
     },
     "execution_count": 19,
     "metadata": {},
     "output_type": "execute_result"
    }
   ],
   "source": [
    "yeni_matris = np.random.randint(1,10,(5,6))\n",
    "yeni_matris"
   ]
  },
  {
   "cell_type": "code",
   "execution_count": 20,
   "id": "418c4a99",
   "metadata": {},
   "outputs": [
    {
     "data": {
      "text/plain": [
       "(5, 6)"
      ]
     },
     "execution_count": 20,
     "metadata": {},
     "output_type": "execute_result"
    }
   ],
   "source": [
    "yeni_matris.shape"
   ]
  },
  {
   "cell_type": "code",
   "execution_count": 21,
   "id": "64b4a25c",
   "metadata": {},
   "outputs": [
    {
     "data": {
      "text/plain": [
       "30"
      ]
     },
     "execution_count": 21,
     "metadata": {},
     "output_type": "execute_result"
    }
   ],
   "source": [
    "yeni_matris.size"
   ]
  },
  {
   "cell_type": "code",
   "execution_count": 22,
   "id": "cf4d4dde",
   "metadata": {},
   "outputs": [
    {
     "data": {
      "text/plain": [
       "array([[2, 4, 9, 9, 6, 9, 5, 3, 3, 4],\n",
       "       [3, 2, 3, 8, 5, 9, 1, 6, 3, 4],\n",
       "       [3, 6, 7, 2, 1, 2, 8, 9, 6, 3]])"
      ]
     },
     "execution_count": 22,
     "metadata": {},
     "output_type": "execute_result"
    }
   ],
   "source": [
    "yeni_matris.reshape(3,10)"
   ]
  },
  {
   "cell_type": "markdown",
   "id": "cf7c884b",
   "metadata": {},
   "source": [
    "# copy ve View METOTLARI\n",
    "- view ile matris kopyalanır ve kopyalanan matristeki değişim ana matrisi etkiler."
   ]
  },
  {
   "cell_type": "code",
   "execution_count": 29,
   "id": "5b02142b",
   "metadata": {},
   "outputs": [
    {
     "data": {
      "text/plain": [
       "array([[0, 1, 1, 0, 1],\n",
       "       [1, 0, 0, 0, 1],\n",
       "       [0, 1, 0, 1, 0],\n",
       "       [0, 0, 0, 1, 1]])"
      ]
     },
     "execution_count": 29,
     "metadata": {},
     "output_type": "execute_result"
    }
   ],
   "source": [
    "ana_matris = np.random.randint(0,2,(4,5))\n",
    "ana_matris"
   ]
  },
  {
   "cell_type": "code",
   "execution_count": 30,
   "id": "d73dbb72",
   "metadata": {},
   "outputs": [
    {
     "data": {
      "text/plain": [
       "array([[0, 1, 1, 0, 1],\n",
       "       [1, 0, 0, 0, 1],\n",
       "       [0, 1, 0, 1, 0],\n",
       "       [0, 0, 0, 1, 1]])"
      ]
     },
     "execution_count": 30,
     "metadata": {},
     "output_type": "execute_result"
    }
   ],
   "source": [
    "view_matris = ana_matris.view()\n",
    "view_matris"
   ]
  },
  {
   "cell_type": "code",
   "execution_count": 32,
   "id": "abeaebb2",
   "metadata": {},
   "outputs": [],
   "source": [
    "view_matris[0] = [9,9,9,9,9]"
   ]
  },
  {
   "cell_type": "code",
   "execution_count": 35,
   "id": "343c2d0a",
   "metadata": {},
   "outputs": [
    {
     "name": "stdout",
     "output_type": "stream",
     "text": [
      "[[9 9 9 9 9]\n",
      " [1 0 0 0 1]\n",
      " [0 1 0 1 0]\n",
      " [0 0 0 1 1]]\n"
     ]
    },
    {
     "data": {
      "text/plain": [
       "array([[9, 9, 9, 9, 9],\n",
       "       [1, 0, 0, 0, 1],\n",
       "       [0, 1, 0, 1, 0],\n",
       "       [0, 0, 0, 1, 1]])"
      ]
     },
     "execution_count": 35,
     "metadata": {},
     "output_type": "execute_result"
    }
   ],
   "source": [
    "print(view_matris) # view_matris'teki değişim ana_matris için de uygulandı.\n",
    "ana_matris"
   ]
  },
  {
   "cell_type": "code",
   "execution_count": 37,
   "id": "1e308228",
   "metadata": {},
   "outputs": [
    {
     "data": {
      "text/plain": [
       "array([[0, 0, 0, 0, 1, 0],\n",
       "       [0, 1, 0, 1, 1, 1],\n",
       "       [0, 0, 0, 0, 0, 1],\n",
       "       [0, 1, 1, 1, 1, 1],\n",
       "       [1, 1, 0, 0, 1, 0]])"
      ]
     },
     "execution_count": 37,
     "metadata": {},
     "output_type": "execute_result"
    }
   ],
   "source": [
    "ana_matris2 = np.random.randint(0,2,(5,6))\n",
    "ana_matris2"
   ]
  },
  {
   "cell_type": "markdown",
   "id": "6ad97f3f",
   "metadata": {},
   "source": [
    " "
   ]
  },
  {
   "cell_type": "code",
   "execution_count": 38,
   "id": "2214a026",
   "metadata": {},
   "outputs": [
    {
     "data": {
      "text/plain": [
       "array([[0, 0, 0, 0, 1, 0],\n",
       "       [0, 1, 0, 1, 1, 1],\n",
       "       [0, 0, 0, 0, 0, 1],\n",
       "       [0, 1, 1, 1, 1, 1],\n",
       "       [1, 1, 0, 0, 1, 0]])"
      ]
     },
     "execution_count": 38,
     "metadata": {},
     "output_type": "execute_result"
    }
   ],
   "source": [
    "copy_matris = ana_matris2.copy()\n",
    "copy_matris"
   ]
  },
  {
   "cell_type": "code",
   "execution_count": 39,
   "id": "684346f8",
   "metadata": {},
   "outputs": [],
   "source": [
    "copy_matris[0] = [8,8,8,8,8,8]"
   ]
  },
  {
   "cell_type": "code",
   "execution_count": 40,
   "id": "7384acf5",
   "metadata": {},
   "outputs": [
    {
     "name": "stdout",
     "output_type": "stream",
     "text": [
      "[[8 8 8 8 8 8]\n",
      " [0 1 0 1 1 1]\n",
      " [0 0 0 0 0 1]\n",
      " [0 1 1 1 1 1]\n",
      " [1 1 0 0 1 0]]\n"
     ]
    },
    {
     "data": {
      "text/plain": [
       "array([[0, 0, 0, 0, 1, 0],\n",
       "       [0, 1, 0, 1, 1, 1],\n",
       "       [0, 0, 0, 0, 0, 1],\n",
       "       [0, 1, 1, 1, 1, 1],\n",
       "       [1, 1, 0, 0, 1, 0]])"
      ]
     },
     "execution_count": 40,
     "metadata": {},
     "output_type": "execute_result"
    }
   ],
   "source": [
    "print(copy_matris) # copy_matris'teki değişim ana_matris2 için geçerli olmadı.\n",
    "ana_matris2"
   ]
  },
  {
   "cell_type": "markdown",
   "id": "4542a200",
   "metadata": {},
   "source": [
    "# identity()\n",
    "- Birim matris oluşturmak için kullanılır.\n",
    "- Birim matriste satır ve kolon sayılarının eşit olması gerektiğinden tek bir değer alır ve bu değer hem satır sayısı hem de kolon sayısı olarak tanımlanır."
   ]
  },
  {
   "cell_type": "code",
   "execution_count": 12,
   "id": "00dff43d",
   "metadata": {},
   "outputs": [
    {
     "data": {
      "text/plain": [
       "array([[1., 0., 0., 0., 0., 0.],\n",
       "       [0., 1., 0., 0., 0., 0.],\n",
       "       [0., 0., 1., 0., 0., 0.],\n",
       "       [0., 0., 0., 1., 0., 0.],\n",
       "       [0., 0., 0., 0., 1., 0.],\n",
       "       [0., 0., 0., 0., 0., 1.]])"
      ]
     },
     "execution_count": 12,
     "metadata": {},
     "output_type": "execute_result"
    }
   ],
   "source": [
    "np.identity(6)"
   ]
  },
  {
   "cell_type": "markdown",
   "id": "4ef2c143",
   "metadata": {},
   "source": [
    "# eye()\n",
    "- Farklı türden birim matris oluşturmak için kullanır.\n",
    "- Farklı türden kasıt satır ve kolon sayılarının eşit olmaması ve köşegen hattının başlangıcını belirleme(k parametresi) üzerinedir.\n",
    "- k parametresi pozitif değer aldığında kolon boyunca, negatif bir değer aldığında ise satır boyunca ilerler."
   ]
  },
  {
   "cell_type": "code",
   "execution_count": 9,
   "id": "1db69943",
   "metadata": {},
   "outputs": [
    {
     "data": {
      "text/plain": [
       "array([[1., 0., 0., 0., 0., 0.],\n",
       "       [0., 1., 0., 0., 0., 0.],\n",
       "       [0., 0., 1., 0., 0., 0.],\n",
       "       [0., 0., 0., 1., 0., 0.],\n",
       "       [0., 0., 0., 0., 1., 0.],\n",
       "       [0., 0., 0., 0., 0., 1.]])"
      ]
     },
     "execution_count": 9,
     "metadata": {},
     "output_type": "execute_result"
    }
   ],
   "source": [
    "np.eye(6,6)"
   ]
  },
  {
   "cell_type": "code",
   "execution_count": 13,
   "id": "acab9893",
   "metadata": {},
   "outputs": [
    {
     "data": {
      "text/plain": [
       "array([[1., 0., 0., 0., 0., 0., 0.],\n",
       "       [0., 1., 0., 0., 0., 0., 0.],\n",
       "       [0., 0., 1., 0., 0., 0., 0.],\n",
       "       [0., 0., 0., 1., 0., 0., 0.],\n",
       "       [0., 0., 0., 0., 1., 0., 0.]])"
      ]
     },
     "execution_count": 13,
     "metadata": {},
     "output_type": "execute_result"
    }
   ],
   "source": [
    "np.eye(5,7) # Satır ve kolon sayıları eşit değil."
   ]
  },
  {
   "cell_type": "code",
   "execution_count": 4,
   "id": "def9a9af",
   "metadata": {},
   "outputs": [
    {
     "data": {
      "text/plain": [
       "array([[0., 1., 0., 0., 0., 0.],\n",
       "       [0., 0., 1., 0., 0., 0.],\n",
       "       [0., 0., 0., 1., 0., 0.],\n",
       "       [0., 0., 0., 0., 1., 0.],\n",
       "       [0., 0., 0., 0., 0., 1.],\n",
       "       [0., 0., 0., 0., 0., 0.]])"
      ]
     },
     "execution_count": 4,
     "metadata": {},
     "output_type": "execute_result"
    }
   ],
   "source": [
    "np.eye(6,6,k=1)"
   ]
  },
  {
   "cell_type": "code",
   "execution_count": 5,
   "id": "fd7425d2",
   "metadata": {},
   "outputs": [
    {
     "data": {
      "text/plain": [
       "array([[0., 0., 0., 1., 0., 0.],\n",
       "       [0., 0., 0., 0., 1., 0.],\n",
       "       [0., 0., 0., 0., 0., 1.],\n",
       "       [0., 0., 0., 0., 0., 0.],\n",
       "       [0., 0., 0., 0., 0., 0.],\n",
       "       [0., 0., 0., 0., 0., 0.]])"
      ]
     },
     "execution_count": 5,
     "metadata": {},
     "output_type": "execute_result"
    }
   ],
   "source": [
    "np.eye(6,6,k=3)"
   ]
  },
  {
   "cell_type": "code",
   "execution_count": 6,
   "id": "2fe88955",
   "metadata": {},
   "outputs": [
    {
     "data": {
      "text/plain": [
       "array([[0., 0., 0., 0., 0., 0.],\n",
       "       [0., 0., 0., 0., 0., 0.],\n",
       "       [1., 0., 0., 0., 0., 0.],\n",
       "       [0., 1., 0., 0., 0., 0.],\n",
       "       [0., 0., 1., 0., 0., 0.],\n",
       "       [0., 0., 0., 1., 0., 0.]])"
      ]
     },
     "execution_count": 6,
     "metadata": {},
     "output_type": "execute_result"
    }
   ],
   "source": [
    "np.eye(6,6, k= -2) # 2.vektörün(3.satır) köşegenine 1 verir."
   ]
  },
  {
   "cell_type": "markdown",
   "id": "cfea5ead",
   "metadata": {},
   "source": [
    "# diag()\n",
    "- Köşegen matris oluşturmak için kullanılır.\n",
    "- Verilen değerlere göre köşegen matris oluşturur.\n",
    "- Köşegen matriste satır ve kolon sayısı eşit olduğundan dolayı verilen değer sayısına göre bir köşegen matris oluşturulur.(5 eleman verildiyse 5x5 bir matris oluşturulur.)  \n",
    "- k parametresine girilen değer kadar eşit sayıda satır ve kolon eklenir.\n",
    "- diag() aynı zamanda var olan bir matrisin köşegen hattındaki değerleri de verir."
   ]
  },
  {
   "cell_type": "code",
   "execution_count": 14,
   "id": "bc7c2f8d",
   "metadata": {},
   "outputs": [
    {
     "data": {
      "text/plain": [
       "array([[ 3,  0,  0,  0,  0],\n",
       "       [ 0,  7,  0,  0,  0],\n",
       "       [ 0,  0,  9,  0,  0],\n",
       "       [ 0,  0,  0, 12,  0],\n",
       "       [ 0,  0,  0,  0, 65]])"
      ]
     },
     "execution_count": 14,
     "metadata": {},
     "output_type": "execute_result"
    }
   ],
   "source": [
    "np.diag([3,7,9,12,65])"
   ]
  },
  {
   "cell_type": "code",
   "execution_count": 16,
   "id": "01747ef0",
   "metadata": {},
   "outputs": [
    {
     "data": {
      "text/plain": [
       "array([[6, 0, 0],\n",
       "       [0, 8, 0],\n",
       "       [0, 0, 2]])"
      ]
     },
     "execution_count": 16,
     "metadata": {},
     "output_type": "execute_result"
    }
   ],
   "source": [
    "np.diag([6,8,2])"
   ]
  },
  {
   "cell_type": "code",
   "execution_count": 17,
   "id": "d8af209d",
   "metadata": {},
   "outputs": [
    {
     "data": {
      "text/plain": [
       "array([[4, 0, 0, 0, 0],\n",
       "       [0, 4, 0, 0, 0],\n",
       "       [0, 0, 4, 0, 0],\n",
       "       [0, 0, 0, 4, 0],\n",
       "       [0, 0, 0, 0, 4]])"
      ]
     },
     "execution_count": 17,
     "metadata": {},
     "output_type": "execute_result"
    }
   ],
   "source": [
    "np.diag([4,4,4,4,4]) # scaler matris"
   ]
  },
  {
   "cell_type": "code",
   "execution_count": 38,
   "id": "7390866d",
   "metadata": {},
   "outputs": [
    {
     "data": {
      "text/plain": [
       "array([[4, 0, 0, 0, 0],\n",
       "       [0, 5, 0, 0, 0],\n",
       "       [0, 0, 6, 0, 0],\n",
       "       [0, 0, 0, 7, 0],\n",
       "       [0, 0, 0, 0, 8]])"
      ]
     },
     "execution_count": 38,
     "metadata": {},
     "output_type": "execute_result"
    }
   ],
   "source": [
    "np.diag([4,5,6,7,8])"
   ]
  },
  {
   "cell_type": "markdown",
   "id": "89fe88fc",
   "metadata": {},
   "source": [
    "// k PARAMETRESİ İLE KULLANIMI //"
   ]
  },
  {
   "cell_type": "code",
   "execution_count": 40,
   "id": "c594b6c0",
   "metadata": {},
   "outputs": [
    {
     "data": {
      "text/plain": [
       "array([[0, 0, 0, 4, 0, 0, 0, 0],\n",
       "       [0, 0, 0, 0, 5, 0, 0, 0],\n",
       "       [0, 0, 0, 0, 0, 6, 0, 0],\n",
       "       [0, 0, 0, 0, 0, 0, 7, 0],\n",
       "       [0, 0, 0, 0, 0, 0, 0, 8],\n",
       "       [0, 0, 0, 0, 0, 0, 0, 0],\n",
       "       [0, 0, 0, 0, 0, 0, 0, 0],\n",
       "       [0, 0, 0, 0, 0, 0, 0, 0]])"
      ]
     },
     "execution_count": 40,
     "metadata": {},
     "output_type": "execute_result"
    }
   ],
   "source": [
    "np.diag([4,5,6,7,8],k=3) # 3 satır ve kolon ekledi."
   ]
  },
  {
   "cell_type": "code",
   "execution_count": 42,
   "id": "5ef6771c",
   "metadata": {},
   "outputs": [
    {
     "data": {
      "text/plain": [
       "array([[0, 0, 0, 0, 0, 0, 0, 0],\n",
       "       [0, 0, 0, 0, 0, 0, 0, 0],\n",
       "       [0, 0, 0, 0, 0, 0, 0, 0],\n",
       "       [4, 0, 0, 0, 0, 0, 0, 0],\n",
       "       [0, 5, 0, 0, 0, 0, 0, 0],\n",
       "       [0, 0, 6, 0, 0, 0, 0, 0],\n",
       "       [0, 0, 0, 7, 0, 0, 0, 0],\n",
       "       [0, 0, 0, 0, 8, 0, 0, 0]])"
      ]
     },
     "execution_count": 42,
     "metadata": {},
     "output_type": "execute_result"
    }
   ],
   "source": [
    "np.diag([4,5,6,7,8],k=-3) # 3 satır ve kolon ekledi."
   ]
  },
  {
   "cell_type": "markdown",
   "id": "0b73d812",
   "metadata": {},
   "source": [
    "// VERİLEN MATRİSİN KÖŞEGEN HATTI DEĞERLERİ BULMA //"
   ]
  },
  {
   "cell_type": "code",
   "execution_count": 49,
   "id": "789b28f3",
   "metadata": {},
   "outputs": [
    {
     "name": "stdout",
     "output_type": "stream",
     "text": [
      "[[82 85 49 64  4 86]\n",
      " [36 37 10 87 97 13]\n",
      " [45 12 78 52  9  2]\n",
      " [32 61 55 83 46 70]\n",
      " [10 67 29 24 54 43]\n",
      " [ 7  7 85 26 36 69]]\n"
     ]
    },
    {
     "data": {
      "text/plain": [
       "array([82, 37, 78, 83, 54, 69])"
      ]
     },
     "execution_count": 49,
     "metadata": {},
     "output_type": "execute_result"
    }
   ],
   "source": [
    "r = np.random.randint(1,100,(6,6))\n",
    "print(r)\n",
    "np.diag(r) # verilen matrisin köşegen hattını verir."
   ]
  },
  {
   "cell_type": "markdown",
   "id": "11283d10",
   "metadata": {},
   "source": [
    "// HERHANGİ BİR MATRİSTEN ALINMIŞ KÖŞEGEN DEĞERLERİ İLE KÖŞEGEN MATRİS OLUŞTURMA //"
   ]
  },
  {
   "cell_type": "code",
   "execution_count": 54,
   "id": "fb7cf6e4",
   "metadata": {},
   "outputs": [
    {
     "name": "stdout",
     "output_type": "stream",
     "text": [
      "[[ 1 28 12 30  8]\n",
      " [54 14 14 98 92]\n",
      " [ 5 92 74 91 33]\n",
      " [63 19  8 29 56]\n",
      " [51 82 13 97 42]]\n",
      "[ 1 14 74 29 42]\n"
     ]
    },
    {
     "data": {
      "text/plain": [
       "array([[ 1,  0,  0,  0,  0],\n",
       "       [ 0, 14,  0,  0,  0],\n",
       "       [ 0,  0, 74,  0,  0],\n",
       "       [ 0,  0,  0, 29,  0],\n",
       "       [ 0,  0,  0,  0, 42]])"
      ]
     },
     "execution_count": 54,
     "metadata": {},
     "output_type": "execute_result"
    }
   ],
   "source": [
    "k_matris = np.random.randint(1,100,(5,5))\n",
    "print(k_matris)\n",
    "print(np.diag(k_matris)) # köşegen hattının elemanları\n",
    "np.diag(np.diag(k_matris)) # verilen matrisin köşegen hattındaki değerlerini içeren köşegen matris oluşturur."
   ]
  },
  {
   "cell_type": "markdown",
   "id": "7876f289",
   "metadata": {},
   "source": [
    "# MATRİS İŞLEMLERİ"
   ]
  },
  {
   "cell_type": "code",
   "execution_count": 1,
   "id": "316777b9",
   "metadata": {},
   "outputs": [],
   "source": [
    "import numpy as np"
   ]
  },
  {
   "cell_type": "code",
   "execution_count": 36,
   "id": "0af82c63",
   "metadata": {},
   "outputs": [],
   "source": [
    "m1 = np.array([[4,7,3],[8,4,2],[6,2,1]])\n",
    "m2 = np.array([[11,14,18],[16,13,12],[15,19,10]])"
   ]
  },
  {
   "cell_type": "code",
   "execution_count": 25,
   "id": "f8659d05",
   "metadata": {},
   "outputs": [
    {
     "data": {
      "text/plain": [
       "array([[15, 21, 21],\n",
       "       [24, 17, 14],\n",
       "       [21, 21, 11]])"
      ]
     },
     "execution_count": 25,
     "metadata": {},
     "output_type": "execute_result"
    }
   ],
   "source": [
    "m1 + m2 # Toplama: Satır ve kolonları birbirine denk gelen elemanlar toplanır."
   ]
  },
  {
   "cell_type": "code",
   "execution_count": 28,
   "id": "8a9e1cb3",
   "metadata": {},
   "outputs": [
    {
     "data": {
      "text/plain": [
       "array([[ -7,  -7, -15],\n",
       "       [ -8,  -9, -10],\n",
       "       [ -9, -17,  -9]])"
      ]
     },
     "execution_count": 28,
     "metadata": {},
     "output_type": "execute_result"
    }
   ],
   "source": [
    "m1 - m2 # Çıkarma: Satır ve kolonları birbirine denk gelen elemanlar çıkarılır."
   ]
  },
  {
   "cell_type": "code",
   "execution_count": 29,
   "id": "6671755d",
   "metadata": {},
   "outputs": [
    {
     "data": {
      "text/plain": [
       "array([[ 44,  98,  54],\n",
       "       [128,  52,  24],\n",
       "       [ 90,  38,  10]])"
      ]
     },
     "execution_count": 29,
     "metadata": {},
     "output_type": "execute_result"
    }
   ],
   "source": [
    "m1 * m2 # Çarpma"
   ]
  },
  {
   "cell_type": "code",
   "execution_count": 30,
   "id": "e30c16f1",
   "metadata": {},
   "outputs": [],
   "source": [
    "m3 = np.random.randint(1,100,(3,4))\n",
    "m4 = np.random.randint(1,100,(4,5))"
   ]
  },
  {
   "cell_type": "code",
   "execution_count": 34,
   "id": "2ac40dee",
   "metadata": {},
   "outputs": [
    {
     "ename": "ValueError",
     "evalue": "operands could not be broadcast together with shapes (3,4) (4,5) ",
     "output_type": "error",
     "traceback": [
      "\u001b[1;31m---------------------------------------------------------------------------\u001b[0m",
      "\u001b[1;31mValueError\u001b[0m                                Traceback (most recent call last)",
      "Cell \u001b[1;32mIn[34], line 1\u001b[0m\n\u001b[1;32m----> 1\u001b[0m \u001b[43mm3\u001b[49m\u001b[43m \u001b[49m\u001b[38;5;241;43m/\u001b[39;49m\u001b[43m \u001b[49m\u001b[43mm4\u001b[49m\n",
      "\u001b[1;31mValueError\u001b[0m: operands could not be broadcast together with shapes (3,4) (4,5) "
     ]
    }
   ],
   "source": [
    "m3 / m4 # HATA: Boyutları aynı olmayan matrislerle işlem yapılamaz"
   ]
  },
  {
   "cell_type": "markdown",
   "id": "5e2cf803",
   "metadata": {},
   "source": [
    "# ARRAY BİRLEŞTİRME(concatenation)"
   ]
  },
  {
   "cell_type": "code",
   "execution_count": 9,
   "id": "e17fa973",
   "metadata": {},
   "outputs": [],
   "source": [
    "x = np.array([1,2,3])\n",
    "y = np.array([4,5,6])"
   ]
  },
  {
   "cell_type": "code",
   "execution_count": 10,
   "id": "ed076a7f",
   "metadata": {},
   "outputs": [
    {
     "data": {
      "text/plain": [
       "array([1, 2, 3, 4, 5, 6])"
      ]
     },
     "execution_count": 10,
     "metadata": {},
     "output_type": "execute_result"
    }
   ],
   "source": [
    "np.concatenate([x,y]) # vektör birleştirme"
   ]
  },
  {
   "cell_type": "code",
   "execution_count": 11,
   "id": "f0d7a813",
   "metadata": {},
   "outputs": [],
   "source": [
    "a = np.array([[1,2,3],[4,5,6]])\n",
    "b = np.array([[7,8,9],[10,11,12]])"
   ]
  },
  {
   "cell_type": "code",
   "execution_count": 12,
   "id": "c997a6be",
   "metadata": {},
   "outputs": [
    {
     "data": {
      "text/plain": [
       "array([[ 1,  2,  3],\n",
       "       [ 4,  5,  6],\n",
       "       [ 7,  8,  9],\n",
       "       [10, 11, 12]])"
      ]
     },
     "execution_count": 12,
     "metadata": {},
     "output_type": "execute_result"
    }
   ],
   "source": [
    "np.concatenate([a,b]) # matris birleştirme"
   ]
  },
  {
   "cell_type": "code",
   "execution_count": 13,
   "id": "d815472c",
   "metadata": {},
   "outputs": [
    {
     "data": {
      "text/plain": [
       "array([[ 1,  2,  3,  7,  8,  9],\n",
       "       [ 4,  5,  6, 10, 11, 12]])"
      ]
     },
     "execution_count": 13,
     "metadata": {},
     "output_type": "execute_result"
    }
   ],
   "source": [
    "np.concatenate([a,b], axis=1) # matris birleştirme(sütün bazında)"
   ]
  },
  {
   "cell_type": "markdown",
   "id": "0a1874b0",
   "metadata": {},
   "source": [
    "# ARRAY AYIRMA(splitting)"
   ]
  },
  {
   "cell_type": "code",
   "execution_count": 14,
   "id": "553c1871",
   "metadata": {},
   "outputs": [],
   "source": [
    "x = np.array([1,2,3,99,99,3,2,1])"
   ]
  },
  {
   "cell_type": "code",
   "execution_count": 15,
   "id": "cf50d6cb",
   "metadata": {},
   "outputs": [
    {
     "data": {
      "text/plain": [
       "[array([1, 2, 3]), array([99, 99]), array([3, 2, 1])]"
      ]
     },
     "execution_count": 15,
     "metadata": {},
     "output_type": "execute_result"
    }
   ],
   "source": [
    "np.split(x, [3,5]) # parametreler: Hangi değer üzerinde işlem yapılacağı(x), kaçıncı elemana kadar(Önce 3'e kadar sonra 5'e kadar)"
   ]
  },
  {
   "cell_type": "code",
   "execution_count": 17,
   "id": "629b4fc8",
   "metadata": {},
   "outputs": [
    {
     "name": "stdout",
     "output_type": "stream",
     "text": [
      "[1 2 3]\n",
      "[99 99]\n",
      "[3 2 1]\n"
     ]
    }
   ],
   "source": [
    "d,e,f = np.split(x, [3,5]) # Bu kod çıktısını sırasıyla değişkenlere atama\n",
    "print(d)\n",
    "print(e)\n",
    "print(f)"
   ]
  },
  {
   "cell_type": "code",
   "execution_count": 18,
   "id": "b1beac84",
   "metadata": {},
   "outputs": [
    {
     "data": {
      "text/plain": [
       "array([[ 0,  1,  2,  3],\n",
       "       [ 4,  5,  6,  7],\n",
       "       [ 8,  9, 10, 11],\n",
       "       [12, 13, 14, 15]])"
      ]
     },
     "execution_count": 18,
     "metadata": {},
     "output_type": "execute_result"
    }
   ],
   "source": [
    "m = np.arange(16).reshape(4,4)\n",
    "m"
   ]
  },
  {
   "cell_type": "code",
   "execution_count": 21,
   "id": "2d411f0c",
   "metadata": {},
   "outputs": [
    {
     "data": {
      "text/plain": [
       "[array([[0, 1, 2, 3],\n",
       "        [4, 5, 6, 7]]),\n",
       " array([[ 8,  9, 10, 11],\n",
       "        [12, 13, 14, 15]])]"
      ]
     },
     "execution_count": 21,
     "metadata": {},
     "output_type": "execute_result"
    }
   ],
   "source": [
    "np.vsplit(m,[2]) # 2.satırdan bölme"
   ]
  },
  {
   "cell_type": "code",
   "execution_count": 22,
   "id": "2658e853",
   "metadata": {},
   "outputs": [
    {
     "data": {
      "text/plain": [
       "[array([[ 0,  1],\n",
       "        [ 4,  5],\n",
       "        [ 8,  9],\n",
       "        [12, 13]]),\n",
       " array([[ 2,  3],\n",
       "        [ 6,  7],\n",
       "        [10, 11],\n",
       "        [14, 15]])]"
      ]
     },
     "execution_count": 22,
     "metadata": {},
     "output_type": "execute_result"
    }
   ],
   "source": [
    "np.hsplit(m, [2]) # 2.kolondan bölme"
   ]
  },
  {
   "cell_type": "markdown",
   "id": "5a39ecce",
   "metadata": {},
   "source": [
    "# KOŞUL İŞLEMLERİ"
   ]
  },
  {
   "cell_type": "code",
   "execution_count": 34,
   "id": "57d4c4ee",
   "metadata": {},
   "outputs": [
    {
     "data": {
      "text/plain": [
       "array([1, 2, 3, 4, 5])"
      ]
     },
     "execution_count": 34,
     "metadata": {},
     "output_type": "execute_result"
    }
   ],
   "source": [
    "k = np.array([1,2,3,4,5])\n",
    "k"
   ]
  },
  {
   "cell_type": "code",
   "execution_count": 35,
   "id": "a947bc3c",
   "metadata": {},
   "outputs": [
    {
     "data": {
      "text/plain": [
       "array([False, False, False, False, False])"
      ]
     },
     "execution_count": 35,
     "metadata": {},
     "output_type": "execute_result"
    }
   ],
   "source": [
    "k > 5"
   ]
  },
  {
   "cell_type": "code",
   "execution_count": 41,
   "id": "039fe0ed",
   "metadata": {},
   "outputs": [
    {
     "data": {
      "text/plain": [
       "array([3, 4, 5])"
      ]
     },
     "execution_count": 41,
     "metadata": {},
     "output_type": "execute_result"
    }
   ],
   "source": [
    "k[k>2]"
   ]
  },
  {
   "cell_type": "markdown",
   "id": "d86f0824",
   "metadata": {},
   "source": [
    "###### EK BİLGİLER"
   ]
  },
  {
   "cell_type": "code",
   "execution_count": 1,
   "id": "a1b0bdd0",
   "metadata": {},
   "outputs": [],
   "source": [
    "import numpy as np"
   ]
  },
  {
   "cell_type": "markdown",
   "id": "1669efca",
   "metadata": {},
   "source": [
    "Boyut Değiştirme"
   ]
  },
  {
   "cell_type": "code",
   "execution_count": 4,
   "id": "ff4cd150",
   "metadata": {},
   "outputs": [
    {
     "data": {
      "text/plain": [
       "array([1, 2, 3, 4, 5, 6, 7, 8, 9])"
      ]
     },
     "execution_count": 4,
     "metadata": {},
     "output_type": "execute_result"
    }
   ],
   "source": [
    "a = np.arange(1,10)\n",
    "a"
   ]
  },
  {
   "cell_type": "code",
   "execution_count": 5,
   "id": "8bad614e",
   "metadata": {},
   "outputs": [
    {
     "data": {
      "text/plain": [
       "array([[1, 2, 3, 4, 5, 6, 7, 8, 9]])"
      ]
     },
     "execution_count": 5,
     "metadata": {},
     "output_type": "execute_result"
    }
   ],
   "source": [
    "a.reshape((1,9)) # vektörü matrise çevirme"
   ]
  },
  {
   "cell_type": "markdown",
   "id": "bc41ff58",
   "metadata": {},
   "source": [
    "# MATAMATİKSEL İŞLEMLER"
   ]
  },
  {
   "cell_type": "code",
   "execution_count": 5,
   "id": "14f8a32c",
   "metadata": {},
   "outputs": [
    {
     "data": {
      "text/plain": [
       "array([1, 2, 3, 4, 5])"
      ]
     },
     "execution_count": 5,
     "metadata": {},
     "output_type": "execute_result"
    }
   ],
   "source": [
    "v = np.array([1,2,3,4,5])\n",
    "v"
   ]
  },
  {
   "cell_type": "code",
   "execution_count": 6,
   "id": "1acea298",
   "metadata": {},
   "outputs": [
    {
     "data": {
      "text/plain": [
       "array([ 4,  8, 12, 16, 20])"
      ]
     },
     "execution_count": 6,
     "metadata": {},
     "output_type": "execute_result"
    }
   ],
   "source": [
    "v * 4 # Her elaman 4 ile çarpıldı."
   ]
  },
  {
   "cell_type": "code",
   "execution_count": 7,
   "id": "b93729ee",
   "metadata": {},
   "outputs": [
    {
     "data": {
      "text/plain": [
       "array([0.14285714, 0.28571429, 0.42857143, 0.57142857, 0.71428571])"
      ]
     },
     "execution_count": 7,
     "metadata": {},
     "output_type": "execute_result"
    }
   ],
   "source": [
    "v/7"
   ]
  },
  {
   "cell_type": "markdown",
   "id": "83e88ff9",
   "metadata": {},
   "source": [
    "#### ufunc"
   ]
  },
  {
   "cell_type": "code",
   "execution_count": 8,
   "id": "db34ddb4",
   "metadata": {},
   "outputs": [
    {
     "data": {
      "text/plain": [
       "array([-1,  0,  1,  2,  3])"
      ]
     },
     "execution_count": 8,
     "metadata": {},
     "output_type": "execute_result"
    }
   ],
   "source": [
    "np.subtract(v, 2) # Her elamandan 2 çıkartıldı."
   ]
  },
  {
   "cell_type": "code",
   "execution_count": 9,
   "id": "4839107c",
   "metadata": {},
   "outputs": [
    {
     "data": {
      "text/plain": [
       "array([22, 23, 24, 25, 26])"
      ]
     },
     "execution_count": 9,
     "metadata": {},
     "output_type": "execute_result"
    }
   ],
   "source": [
    "np.add(v, 21) # Her elemana 21 eklendi."
   ]
  },
  {
   "cell_type": "code",
   "execution_count": 10,
   "id": "83f08810",
   "metadata": {},
   "outputs": [
    {
     "data": {
      "text/plain": [
       "array([ 5, 10, 15, 20, 25])"
      ]
     },
     "execution_count": 10,
     "metadata": {},
     "output_type": "execute_result"
    }
   ],
   "source": [
    "np.multiply(v, 5) # Her eleman 5 ile çarpıldı."
   ]
  },
  {
   "cell_type": "code",
   "execution_count": 14,
   "id": "1cd9b308",
   "metadata": {},
   "outputs": [
    {
     "data": {
      "text/plain": [
       "array([0.2, 0.4, 0.6, 0.8, 1. ])"
      ]
     },
     "execution_count": 14,
     "metadata": {},
     "output_type": "execute_result"
    }
   ],
   "source": [
    "np.divide(v, 5) # Her eleman 5 ile bölündü."
   ]
  },
  {
   "cell_type": "code",
   "execution_count": 17,
   "id": "2d2ecad9",
   "metadata": {},
   "outputs": [
    {
     "data": {
      "text/plain": [
       "array([  1,  16,  81, 256, 625], dtype=int32)"
      ]
     },
     "execution_count": 17,
     "metadata": {},
     "output_type": "execute_result"
    }
   ],
   "source": [
    "np.power(v,4) # Her elemanın 4.kuvveti alındı."
   ]
  },
  {
   "cell_type": "code",
   "execution_count": 18,
   "id": "37b01580",
   "metadata": {},
   "outputs": [
    {
     "data": {
      "text/plain": [
       "array([1, 0, 1, 0, 1], dtype=int32)"
      ]
     },
     "execution_count": 18,
     "metadata": {},
     "output_type": "execute_result"
    }
   ],
   "source": [
    "np.mod(v, 2) # Her elemana mod işlemi uygulandı."
   ]
  },
  {
   "cell_type": "code",
   "execution_count": 19,
   "id": "5215f50d",
   "metadata": {},
   "outputs": [
    {
     "data": {
      "text/plain": [
       "array([4, 6, 4, 3, 3])"
      ]
     },
     "execution_count": 19,
     "metadata": {},
     "output_type": "execute_result"
    }
   ],
   "source": [
    "np.absolute(np.array([-4,-6,4,3,-3])) # Her elemanın mutlak değeri alındı."
   ]
  },
  {
   "cell_type": "code",
   "execution_count": 22,
   "id": "7d69754d",
   "metadata": {},
   "outputs": [
    {
     "data": {
      "text/plain": [
       "0.9454451549211168"
      ]
     },
     "execution_count": 22,
     "metadata": {},
     "output_type": "execute_result"
    }
   ],
   "source": [
    "np.sin(240) # Sinüs alma"
   ]
  },
  {
   "cell_type": "code",
   "execution_count": 23,
   "id": "d7a04d15",
   "metadata": {},
   "outputs": [
    {
     "data": {
      "text/plain": [
       "-0.8919912433578294"
      ]
     },
     "execution_count": 23,
     "metadata": {},
     "output_type": "execute_result"
    }
   ],
   "source": [
    "np.cos(456) # Kosinüs alma"
   ]
  },
  {
   "cell_type": "code",
   "execution_count": 28,
   "id": "c75144cb",
   "metadata": {},
   "outputs": [
    {
     "name": "stdout",
     "output_type": "stream",
     "text": [
      "1.6094379124341003\n",
      "2.321928094887362\n"
     ]
    }
   ],
   "source": [
    "print(np.log(5)) # Logoritmasını alma\n",
    "print(np.log2(5)) # Logoritmanın derecesi belirtilerek alma"
   ]
  },
  {
   "cell_type": "code",
   "execution_count": null,
   "id": "2991712e",
   "metadata": {},
   "outputs": [],
   "source": []
  }
 ],
 "metadata": {
  "kernelspec": {
   "display_name": "Python 3 (ipykernel)",
   "language": "python",
   "name": "python3"
  },
  "language_info": {
   "codemirror_mode": {
    "name": "ipython",
    "version": 3
   },
   "file_extension": ".py",
   "mimetype": "text/x-python",
   "name": "python",
   "nbconvert_exporter": "python",
   "pygments_lexer": "ipython3",
   "version": "3.10.9"
  }
 },
 "nbformat": 4,
 "nbformat_minor": 5
}
