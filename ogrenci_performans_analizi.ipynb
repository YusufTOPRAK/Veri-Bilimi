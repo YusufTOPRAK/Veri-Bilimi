{
 "cells": [
  {
   "cell_type": "code",
   "execution_count": 60,
   "id": "50d1fef9",
   "metadata": {},
   "outputs": [],
   "source": [
    "import pandas as pd\n",
    "import numpy as np\n",
    "import seaborn as sns\n",
    "import matplotlib.pyplot as plt"
   ]
  },
  {
   "cell_type": "code",
   "execution_count": 61,
   "id": "3a996c68",
   "metadata": {},
   "outputs": [
    {
     "data": {
      "text/html": [
       "<div>\n",
       "<style scoped>\n",
       "    .dataframe tbody tr th:only-of-type {\n",
       "        vertical-align: middle;\n",
       "    }\n",
       "\n",
       "    .dataframe tbody tr th {\n",
       "        vertical-align: top;\n",
       "    }\n",
       "\n",
       "    .dataframe thead th {\n",
       "        text-align: right;\n",
       "    }\n",
       "</style>\n",
       "<table border=\"1\" class=\"dataframe\">\n",
       "  <thead>\n",
       "    <tr style=\"text-align: right;\">\n",
       "      <th></th>\n",
       "      <th>gender</th>\n",
       "      <th>race_ethnicity</th>\n",
       "      <th>parental_level_of_education</th>\n",
       "      <th>lunch</th>\n",
       "      <th>test_preparation_course</th>\n",
       "      <th>math_score</th>\n",
       "      <th>reading_score</th>\n",
       "      <th>writing_score</th>\n",
       "    </tr>\n",
       "  </thead>\n",
       "  <tbody>\n",
       "    <tr>\n",
       "      <th>0</th>\n",
       "      <td>female</td>\n",
       "      <td>group B</td>\n",
       "      <td>bachelor's degree</td>\n",
       "      <td>standard</td>\n",
       "      <td>none</td>\n",
       "      <td>72</td>\n",
       "      <td>72</td>\n",
       "      <td>74</td>\n",
       "    </tr>\n",
       "    <tr>\n",
       "      <th>1</th>\n",
       "      <td>female</td>\n",
       "      <td>group C</td>\n",
       "      <td>some college</td>\n",
       "      <td>standard</td>\n",
       "      <td>completed</td>\n",
       "      <td>69</td>\n",
       "      <td>90</td>\n",
       "      <td>88</td>\n",
       "    </tr>\n",
       "    <tr>\n",
       "      <th>2</th>\n",
       "      <td>female</td>\n",
       "      <td>group B</td>\n",
       "      <td>master's degree</td>\n",
       "      <td>standard</td>\n",
       "      <td>none</td>\n",
       "      <td>90</td>\n",
       "      <td>95</td>\n",
       "      <td>93</td>\n",
       "    </tr>\n",
       "    <tr>\n",
       "      <th>3</th>\n",
       "      <td>male</td>\n",
       "      <td>group A</td>\n",
       "      <td>associate's degree</td>\n",
       "      <td>free/reduced</td>\n",
       "      <td>none</td>\n",
       "      <td>47</td>\n",
       "      <td>57</td>\n",
       "      <td>44</td>\n",
       "    </tr>\n",
       "    <tr>\n",
       "      <th>4</th>\n",
       "      <td>male</td>\n",
       "      <td>group C</td>\n",
       "      <td>some college</td>\n",
       "      <td>standard</td>\n",
       "      <td>none</td>\n",
       "      <td>76</td>\n",
       "      <td>78</td>\n",
       "      <td>75</td>\n",
       "    </tr>\n",
       "  </tbody>\n",
       "</table>\n",
       "</div>"
      ],
      "text/plain": [
       "   gender race_ethnicity parental_level_of_education         lunch  \\\n",
       "0  female        group B           bachelor's degree      standard   \n",
       "1  female        group C                some college      standard   \n",
       "2  female        group B             master's degree      standard   \n",
       "3    male        group A          associate's degree  free/reduced   \n",
       "4    male        group C                some college      standard   \n",
       "\n",
       "  test_preparation_course  math_score  reading_score  writing_score  \n",
       "0                    none          72             72             74  \n",
       "1               completed          69             90             88  \n",
       "2                    none          90             95             93  \n",
       "3                    none          47             57             44  \n",
       "4                    none          76             78             75  "
      ]
     },
     "execution_count": 61,
     "metadata": {},
     "output_type": "execute_result"
    }
   ],
   "source": [
    "df = pd.read_csv(\"study_performance.csv\") # Veri setini okuma\n",
    "df.head()                                 # Veri setinin ilk 5 satırını görme"
   ]
  },
  {
   "cell_type": "markdown",
   "id": "e5c247cd",
   "metadata": {},
   "source": [
    "### Veri Setine Genel Bakış"
   ]
  },
  {
   "cell_type": "code",
   "execution_count": 62,
   "id": "61ca15a4",
   "metadata": {},
   "outputs": [
    {
     "data": {
      "text/plain": [
       "(1000, 8)"
      ]
     },
     "execution_count": 62,
     "metadata": {},
     "output_type": "execute_result"
    }
   ],
   "source": [
    "df.shape # Veri setinin kaç kolon ve satırdan oluştuğuna bakma"
   ]
  },
  {
   "cell_type": "code",
   "execution_count": 63,
   "id": "95e5bac3",
   "metadata": {},
   "outputs": [
    {
     "data": {
      "text/plain": [
       "RangeIndex(start=0, stop=1000, step=1)"
      ]
     },
     "execution_count": 63,
     "metadata": {},
     "output_type": "execute_result"
    }
   ],
   "source": [
    "df.index # index özellikleri"
   ]
  },
  {
   "cell_type": "code",
   "execution_count": 64,
   "id": "38580f2f",
   "metadata": {},
   "outputs": [
    {
     "data": {
      "text/plain": [
       "Index(['gender', 'race_ethnicity', 'parental_level_of_education', 'lunch',\n",
       "       'test_preparation_course', 'math_score', 'reading_score',\n",
       "       'writing_score'],\n",
       "      dtype='object')"
      ]
     },
     "execution_count": 64,
     "metadata": {},
     "output_type": "execute_result"
    }
   ],
   "source": [
    "df.columns # Kolonları(Değişkenleri) görme"
   ]
  },
  {
   "cell_type": "code",
   "execution_count": 65,
   "id": "ac7a78df",
   "metadata": {},
   "outputs": [
    {
     "data": {
      "text/plain": [
       "gender                         object\n",
       "race_ethnicity                 object\n",
       "parental_level_of_education    object\n",
       "lunch                          object\n",
       "test_preparation_course        object\n",
       "math_score                      int64\n",
       "reading_score                   int64\n",
       "writing_score                   int64\n",
       "dtype: object"
      ]
     },
     "execution_count": 65,
     "metadata": {},
     "output_type": "execute_result"
    }
   ],
   "source": [
    "df.dtypes # Değişkenlerin tipleri"
   ]
  },
  {
   "cell_type": "code",
   "execution_count": 66,
   "id": "a314e963",
   "metadata": {},
   "outputs": [
    {
     "name": "stdout",
     "output_type": "stream",
     "text": [
      "<class 'pandas.core.frame.DataFrame'>\n",
      "RangeIndex: 1000 entries, 0 to 999\n",
      "Data columns (total 8 columns):\n",
      " #   Column                       Non-Null Count  Dtype \n",
      "---  ------                       --------------  ----- \n",
      " 0   gender                       1000 non-null   object\n",
      " 1   race_ethnicity               1000 non-null   object\n",
      " 2   parental_level_of_education  1000 non-null   object\n",
      " 3   lunch                        1000 non-null   object\n",
      " 4   test_preparation_course      1000 non-null   object\n",
      " 5   math_score                   1000 non-null   int64 \n",
      " 6   reading_score                1000 non-null   int64 \n",
      " 7   writing_score                1000 non-null   int64 \n",
      "dtypes: int64(3), object(5)\n",
      "memory usage: 62.6+ KB\n"
     ]
    }
   ],
   "source": [
    "df.info() # Veri seti bilgilerine genel bakış"
   ]
  },
  {
   "cell_type": "code",
   "execution_count": 67,
   "id": "08e633ef",
   "metadata": {},
   "outputs": [],
   "source": [
    "# Veri setinin alındığı kaynakta \"race_ethnicity\" değişkenine ait değerler ile ilgili bir açıklama olmadığından silindi.\n",
    "df.drop([\"race_ethnicity\"], axis=1, inplace = True)"
   ]
  },
  {
   "cell_type": "markdown",
   "id": "bfedf313",
   "metadata": {},
   "source": [
    "### Eksik Veri Kontrolü"
   ]
  },
  {
   "cell_type": "code",
   "execution_count": 68,
   "id": "2bd61259",
   "metadata": {},
   "outputs": [
    {
     "data": {
      "text/plain": [
       "gender                         0\n",
       "parental_level_of_education    0\n",
       "lunch                          0\n",
       "test_preparation_course        0\n",
       "math_score                     0\n",
       "reading_score                  0\n",
       "writing_score                  0\n",
       "dtype: int64"
      ]
     },
     "execution_count": 68,
     "metadata": {},
     "output_type": "execute_result"
    }
   ],
   "source": [
    "df.isnull().sum() # Eksik veri yok"
   ]
  },
  {
   "cell_type": "markdown",
   "id": "1037faf2",
   "metadata": {},
   "source": [
    "### Ordinal Değişkenleri Sayısal Değere Dönüştürme\n",
    "- parental_level_of_education ve lunch değişkenler için uygulanmıştır.\n",
    "- Önem derecesi sayılar ile doğru orantılıdır. Başlangıç noktası 0'dır."
   ]
  },
  {
   "cell_type": "code",
   "execution_count": 69,
   "id": "0fb9c14e",
   "metadata": {},
   "outputs": [],
   "source": [
    "from sklearn.preprocessing import OrdinalEncoder "
   ]
  },
  {
   "cell_type": "markdown",
   "id": "e6dc23d7",
   "metadata": {},
   "source": [
    "##### Eğitim Seviyeleri Açıklaması:\n",
    "- master's degree: Yüksek Lisans = 5\n",
    "- bachelor's degree: Lisans = 4\n",
    "- associate's degree: Ön Lisans = 3\n",
    "- some college: Üniversite Terk(Yarıda bırakmış veya belirli bir süre eğitim almış) = 2\n",
    "- high school: Lise = 1\n",
    "- some high school: Lise Terk(Yarıda bırakmış veya belirli bir süre eğitim almış) = 0"
   ]
  },
  {
   "cell_type": "code",
   "execution_count": 70,
   "id": "c59aadaf",
   "metadata": {},
   "outputs": [
    {
     "data": {
      "text/plain": [
       "array([\"bachelor's degree\", 'some college', \"master's degree\",\n",
       "       \"associate's degree\", 'high school', 'some high school'],\n",
       "      dtype=object)"
      ]
     },
     "execution_count": 70,
     "metadata": {},
     "output_type": "execute_result"
    }
   ],
   "source": [
    "df.parental_level_of_education.unique()"
   ]
  },
  {
   "cell_type": "code",
   "execution_count": 71,
   "id": "64603c22",
   "metadata": {},
   "outputs": [
    {
     "data": {
      "text/plain": [
       "[['some high school',\n",
       "  'high school',\n",
       "  'some college',\n",
       "  \"associate's degree\",\n",
       "  \"bachelor's degree\",\n",
       "  \"master's degree\"]]"
      ]
     },
     "execution_count": 71,
     "metadata": {},
     "output_type": "execute_result"
    }
   ],
   "source": [
    "# Eğitim seviyeleri önem sırasına göre listede tutulmuştur.\n",
    "egitim_sıralaması = [[\"some high school\", \"high school\", \"some college\", \"associate's degree\", \"bachelor's degree\", \"master's degree\"]]\n",
    "egitim_sıralaması "
   ]
  },
  {
   "cell_type": "code",
   "execution_count": 72,
   "id": "d6ddcfef",
   "metadata": {},
   "outputs": [],
   "source": [
    "# OrdinalEncoder'ın çalıştırılması\n",
    "egitim_ol = OrdinalEncoder(categories=egitim_sıralaması) "
   ]
  },
  {
   "cell_type": "code",
   "execution_count": 73,
   "id": "5f70162d",
   "metadata": {},
   "outputs": [],
   "source": [
    "# Değerlerin dönüşümü\n",
    "df[\"parental_level_of_education\"] = egitim_ol.fit_transform(df[[\"parental_level_of_education\"]])"
   ]
  },
  {
   "cell_type": "code",
   "execution_count": 74,
   "id": "d0b0fc89",
   "metadata": {},
   "outputs": [
    {
     "data": {
      "text/plain": [
       "0      4.0\n",
       "1      2.0\n",
       "2      5.0\n",
       "3      3.0\n",
       "4      2.0\n",
       "      ... \n",
       "995    5.0\n",
       "996    1.0\n",
       "997    1.0\n",
       "998    2.0\n",
       "999    2.0\n",
       "Name: parental_level_of_education, Length: 1000, dtype: float64"
      ]
     },
     "execution_count": 74,
     "metadata": {},
     "output_type": "execute_result"
    }
   ],
   "source": [
    "# Değerlerin saysal hali\n",
    "df[\"parental_level_of_education\"]"
   ]
  },
  {
   "cell_type": "markdown",
   "id": "ef0c2ec2",
   "metadata": {},
   "source": [
    "##### Yemek Sıralaması\n",
    "- free/reduced = 0\n",
    "- standart = 1"
   ]
  },
  {
   "cell_type": "code",
   "execution_count": 75,
   "id": "5896bec4",
   "metadata": {},
   "outputs": [
    {
     "data": {
      "text/plain": [
       "array(['standard', 'free/reduced'], dtype=object)"
      ]
     },
     "execution_count": 75,
     "metadata": {},
     "output_type": "execute_result"
    }
   ],
   "source": [
    "df[\"lunch\"].unique()"
   ]
  },
  {
   "cell_type": "code",
   "execution_count": 76,
   "id": "90c0f2c9",
   "metadata": {},
   "outputs": [
    {
     "data": {
      "text/plain": [
       "[['free/reduced', 'standard']]"
      ]
     },
     "execution_count": 76,
     "metadata": {},
     "output_type": "execute_result"
    }
   ],
   "source": [
    "# Yemek çeşitleri önem sırasına göre listede tutulmuştur.\n",
    "yemek_cesitleri_siralamasi = [[\"free/reduced\", \"standard\"]]\n",
    "yemek_cesitleri_siralamasi"
   ]
  },
  {
   "cell_type": "code",
   "execution_count": 77,
   "id": "d507d06b",
   "metadata": {},
   "outputs": [],
   "source": [
    "# OrdinalEncoder'ın çalıştırılması\n",
    "yemek_ol = OrdinalEncoder(categories=yemek_cesitleri_siralamasi)"
   ]
  },
  {
   "cell_type": "code",
   "execution_count": 78,
   "id": "c4ad2ee6",
   "metadata": {},
   "outputs": [],
   "source": [
    "# Değerlerin dönüşümü\n",
    "df[\"lunch\"] = yemek_ol.fit_transform(df[[\"lunch\"]])"
   ]
  },
  {
   "cell_type": "code",
   "execution_count": 79,
   "id": "d9ec0156",
   "metadata": {},
   "outputs": [
    {
     "data": {
      "text/plain": [
       "0      1.0\n",
       "1      1.0\n",
       "2      1.0\n",
       "3      0.0\n",
       "4      1.0\n",
       "      ... \n",
       "995    1.0\n",
       "996    0.0\n",
       "997    0.0\n",
       "998    1.0\n",
       "999    0.0\n",
       "Name: lunch, Length: 1000, dtype: float64"
      ]
     },
     "execution_count": 79,
     "metadata": {},
     "output_type": "execute_result"
    }
   ],
   "source": [
    "# Değerlerin saysal hali\n",
    "df[\"lunch\"]"
   ]
  },
  {
   "cell_type": "markdown",
   "id": "14ad3ac7",
   "metadata": {},
   "source": [
    "### Nominal Değerleri Sayısal Değere Dönüştürme\n",
    "- gender ve test_preparation_course değişkenleri için uygulanmıştır."
   ]
  },
  {
   "cell_type": "code",
   "execution_count": 80,
   "id": "d08e413f",
   "metadata": {},
   "outputs": [],
   "source": [
    "from sklearn.preprocessing import LabelEncoder"
   ]
  },
  {
   "cell_type": "code",
   "execution_count": 81,
   "id": "8965a66e",
   "metadata": {},
   "outputs": [
    {
     "data": {
      "text/plain": [
       "array(['female', 'male'], dtype=object)"
      ]
     },
     "execution_count": 81,
     "metadata": {},
     "output_type": "execute_result"
    }
   ],
   "source": [
    "df[\"gender\"].unique()"
   ]
  },
  {
   "cell_type": "code",
   "execution_count": 82,
   "id": "63ba6525",
   "metadata": {},
   "outputs": [],
   "source": [
    "# LabelEncoder'ın çalıştırılması\n",
    "le = LabelEncoder()"
   ]
  },
  {
   "cell_type": "code",
   "execution_count": 83,
   "id": "805c36a8",
   "metadata": {},
   "outputs": [],
   "source": [
    "# Yeni değerlerin eski değerlere atanması(Veri setini değiştirir.)\n",
    "df[\"gender\"] = le.fit_transform(df[\"gender\"])"
   ]
  },
  {
   "cell_type": "code",
   "execution_count": 84,
   "id": "35145ea3",
   "metadata": {},
   "outputs": [
    {
     "data": {
      "text/plain": [
       "array(['female', 'male'], dtype=object)"
      ]
     },
     "execution_count": 84,
     "metadata": {},
     "output_type": "execute_result"
    }
   ],
   "source": [
    "# 0 ve 1 olarak değiştirilmiş değişkenlerin karşılığı\n",
    "le.inverse_transform([0,1]) # female = 0, male = 1"
   ]
  },
  {
   "cell_type": "code",
   "execution_count": 85,
   "id": "430c94b9",
   "metadata": {},
   "outputs": [],
   "source": [
    "# Yeni değerlerin eski değerlere atanması(Veri setini değiştirir.)\n",
    "df[\"test_preparation_course\"] = le.fit_transform(df[\"test_preparation_course\"])"
   ]
  },
  {
   "cell_type": "code",
   "execution_count": 86,
   "id": "47958478",
   "metadata": {},
   "outputs": [
    {
     "data": {
      "text/plain": [
       "array(['completed', 'none'], dtype=object)"
      ]
     },
     "execution_count": 86,
     "metadata": {},
     "output_type": "execute_result"
    }
   ],
   "source": [
    "# 0 ve 1 olarak değiştirilmiş değişkenlerin karşılığı\n",
    "le.inverse_transform([0,1]) # completed = 0, none = 1"
   ]
  },
  {
   "cell_type": "code",
   "execution_count": 87,
   "id": "6f9d1a69",
   "metadata": {},
   "outputs": [
    {
     "data": {
      "text/html": [
       "<div>\n",
       "<style scoped>\n",
       "    .dataframe tbody tr th:only-of-type {\n",
       "        vertical-align: middle;\n",
       "    }\n",
       "\n",
       "    .dataframe tbody tr th {\n",
       "        vertical-align: top;\n",
       "    }\n",
       "\n",
       "    .dataframe thead th {\n",
       "        text-align: right;\n",
       "    }\n",
       "</style>\n",
       "<table border=\"1\" class=\"dataframe\">\n",
       "  <thead>\n",
       "    <tr style=\"text-align: right;\">\n",
       "      <th></th>\n",
       "      <th>gender</th>\n",
       "      <th>parental_level_of_education</th>\n",
       "      <th>lunch</th>\n",
       "      <th>test_preparation_course</th>\n",
       "      <th>math_score</th>\n",
       "      <th>reading_score</th>\n",
       "      <th>writing_score</th>\n",
       "    </tr>\n",
       "  </thead>\n",
       "  <tbody>\n",
       "    <tr>\n",
       "      <th>0</th>\n",
       "      <td>0</td>\n",
       "      <td>4.0</td>\n",
       "      <td>1.0</td>\n",
       "      <td>1</td>\n",
       "      <td>72</td>\n",
       "      <td>72</td>\n",
       "      <td>74</td>\n",
       "    </tr>\n",
       "    <tr>\n",
       "      <th>1</th>\n",
       "      <td>0</td>\n",
       "      <td>2.0</td>\n",
       "      <td>1.0</td>\n",
       "      <td>0</td>\n",
       "      <td>69</td>\n",
       "      <td>90</td>\n",
       "      <td>88</td>\n",
       "    </tr>\n",
       "    <tr>\n",
       "      <th>2</th>\n",
       "      <td>0</td>\n",
       "      <td>5.0</td>\n",
       "      <td>1.0</td>\n",
       "      <td>1</td>\n",
       "      <td>90</td>\n",
       "      <td>95</td>\n",
       "      <td>93</td>\n",
       "    </tr>\n",
       "    <tr>\n",
       "      <th>3</th>\n",
       "      <td>1</td>\n",
       "      <td>3.0</td>\n",
       "      <td>0.0</td>\n",
       "      <td>1</td>\n",
       "      <td>47</td>\n",
       "      <td>57</td>\n",
       "      <td>44</td>\n",
       "    </tr>\n",
       "    <tr>\n",
       "      <th>4</th>\n",
       "      <td>1</td>\n",
       "      <td>2.0</td>\n",
       "      <td>1.0</td>\n",
       "      <td>1</td>\n",
       "      <td>76</td>\n",
       "      <td>78</td>\n",
       "      <td>75</td>\n",
       "    </tr>\n",
       "    <tr>\n",
       "      <th>...</th>\n",
       "      <td>...</td>\n",
       "      <td>...</td>\n",
       "      <td>...</td>\n",
       "      <td>...</td>\n",
       "      <td>...</td>\n",
       "      <td>...</td>\n",
       "      <td>...</td>\n",
       "    </tr>\n",
       "    <tr>\n",
       "      <th>995</th>\n",
       "      <td>0</td>\n",
       "      <td>5.0</td>\n",
       "      <td>1.0</td>\n",
       "      <td>0</td>\n",
       "      <td>88</td>\n",
       "      <td>99</td>\n",
       "      <td>95</td>\n",
       "    </tr>\n",
       "    <tr>\n",
       "      <th>996</th>\n",
       "      <td>1</td>\n",
       "      <td>1.0</td>\n",
       "      <td>0.0</td>\n",
       "      <td>1</td>\n",
       "      <td>62</td>\n",
       "      <td>55</td>\n",
       "      <td>55</td>\n",
       "    </tr>\n",
       "    <tr>\n",
       "      <th>997</th>\n",
       "      <td>0</td>\n",
       "      <td>1.0</td>\n",
       "      <td>0.0</td>\n",
       "      <td>0</td>\n",
       "      <td>59</td>\n",
       "      <td>71</td>\n",
       "      <td>65</td>\n",
       "    </tr>\n",
       "    <tr>\n",
       "      <th>998</th>\n",
       "      <td>0</td>\n",
       "      <td>2.0</td>\n",
       "      <td>1.0</td>\n",
       "      <td>0</td>\n",
       "      <td>68</td>\n",
       "      <td>78</td>\n",
       "      <td>77</td>\n",
       "    </tr>\n",
       "    <tr>\n",
       "      <th>999</th>\n",
       "      <td>0</td>\n",
       "      <td>2.0</td>\n",
       "      <td>0.0</td>\n",
       "      <td>1</td>\n",
       "      <td>77</td>\n",
       "      <td>86</td>\n",
       "      <td>86</td>\n",
       "    </tr>\n",
       "  </tbody>\n",
       "</table>\n",
       "<p>1000 rows × 7 columns</p>\n",
       "</div>"
      ],
      "text/plain": [
       "     gender  parental_level_of_education  lunch  test_preparation_course  \\\n",
       "0         0                          4.0    1.0                        1   \n",
       "1         0                          2.0    1.0                        0   \n",
       "2         0                          5.0    1.0                        1   \n",
       "3         1                          3.0    0.0                        1   \n",
       "4         1                          2.0    1.0                        1   \n",
       "..      ...                          ...    ...                      ...   \n",
       "995       0                          5.0    1.0                        0   \n",
       "996       1                          1.0    0.0                        1   \n",
       "997       0                          1.0    0.0                        0   \n",
       "998       0                          2.0    1.0                        0   \n",
       "999       0                          2.0    0.0                        1   \n",
       "\n",
       "     math_score  reading_score  writing_score  \n",
       "0            72             72             74  \n",
       "1            69             90             88  \n",
       "2            90             95             93  \n",
       "3            47             57             44  \n",
       "4            76             78             75  \n",
       "..          ...            ...            ...  \n",
       "995          88             99             95  \n",
       "996          62             55             55  \n",
       "997          59             71             65  \n",
       "998          68             78             77  \n",
       "999          77             86             86  \n",
       "\n",
       "[1000 rows x 7 columns]"
      ]
     },
     "execution_count": 87,
     "metadata": {},
     "output_type": "execute_result"
    }
   ],
   "source": [
    "# Veri setindeki tüm değişken(kolon) değerlerinin sayısal değere dönüşmüş hali\n",
    "df"
   ]
  },
  {
   "cell_type": "markdown",
   "id": "ecc45114",
   "metadata": {},
   "source": [
    "### Aykırı Değerleri Bulma ve Baskılama Yöntemi İle Çözme\n",
    "- Baskılama yönetimi kullanılarak alt eşik değeri aşağısındaki değerler alt eşik değerine, üst eşik yukarısında kalan değerler ise üst limit değerine eşitlenir. Böylelikle veri setinden herhangi bir gözlem değeri silinmemiş olur.\n",
    "- NOT: Aykırı değerleri bulmak için fonksiyon kullanmak daha doğrudur çünkü birçok değişken için yapılmalıdır. Fakat bu çalışmada temel düzeyde ele alınmıştır."
   ]
  },
  {
   "cell_type": "markdown",
   "id": "b8a1fcab",
   "metadata": {},
   "source": [
    "#### math_score Aykrı Değerler"
   ]
  },
  {
   "cell_type": "code",
   "execution_count": 88,
   "id": "7aab618e",
   "metadata": {},
   "outputs": [
    {
     "data": {
      "text/plain": [
       "<Axes: xlabel='math_score'>"
      ]
     },
     "execution_count": 88,
     "metadata": {},
     "output_type": "execute_result"
    },
    {
     "data": {
      "image/png": "[encoded data removed]",
      "text/plain": [
       "<Figure size 640x480 with 1 Axes>"
      ]
     },
     "metadata": {},
     "output_type": "display_data"
    }
   ],
   "source": [
    "# Kutu grafiği kullanarak aykırı değerleri gözlemleme\n",
    "sns.boxplot(x = df[\"math_score\"])"
   ]
  },
  {
   "cell_type": "code",
   "execution_count": 89,
   "id": "c6532bdc",
   "metadata": {},
   "outputs": [
    {
     "name": "stdout",
     "output_type": "stream",
     "text": [
      "Alt Eşik: 27.0\n",
      "Üst Eşik: 107.0\n"
     ]
    }
   ],
   "source": [
    "q1 = df[\"math_score\"].quantile(0.25) # 1.çeyrek değeri\n",
    "q3 = df[\"math_score\"].quantile(0.75) # 3.çeyrek değeri\n",
    "\n",
    "iqr = q3 - q1 # IQR değeri\n",
    "\n",
    "alt_limit = q1 - 1.5 * iqr # alt limit/eşik\n",
    "ust_limit = q3 + 1.5 * iqr # üst limit/eşik\n",
    "\n",
    "print(f\"Alt Eşik: {alt_limit}\")\n",
    "print(f\"Üst Eşik: {ust_limit}\")"
   ]
  },
  {
   "cell_type": "code",
   "execution_count": 90,
   "id": "c84c6496",
   "metadata": {},
   "outputs": [
    {
     "data": {
      "text/plain": [
       "17     18\n",
       "59      0\n",
       "145    22\n",
       "338    24\n",
       "466    26\n",
       "787    19\n",
       "842    23\n",
       "980     8\n",
       "Name: math_score, dtype: int64"
      ]
     },
     "execution_count": 90,
     "metadata": {},
     "output_type": "execute_result"
    }
   ],
   "source": [
    "# Aykırı değerleri gözlemleme\n",
    "aykiri_math_score = df.loc[(df[\"math_score\"] < alt_limit) | (df[\"math_score\"] > ust_limit), \"math_score\"]\n",
    "aykiri_math_score"
   ]
  },
  {
   "cell_type": "code",
   "execution_count": 91,
   "id": "9c5ec747",
   "metadata": {},
   "outputs": [],
   "source": [
    "# Baskılama yöntemi kullanılarak üst limiti aşan değerlere üst limit değeri ile değiştirildi.\n",
    "df.loc[df[\"math_score\"] > ust_limit, \"math_score\"] = ust_limit"
   ]
  },
  {
   "cell_type": "code",
   "execution_count": 92,
   "id": "9530b148",
   "metadata": {},
   "outputs": [],
   "source": [
    "# Baskılama yöntemi kullanılarak alt limit aşağısındaki değerler alt limit değeri ile değiştirildi.\n",
    "df.loc[df[\"math_score\"] < alt_limit, \"math_score\"] = alt_limit"
   ]
  },
  {
   "cell_type": "code",
   "execution_count": 93,
   "id": "3c22f210",
   "metadata": {},
   "outputs": [
    {
     "data": {
      "text/plain": [
       "math_score    27.0\n",
       "Name: 842, dtype: float64"
      ]
     },
     "execution_count": 93,
     "metadata": {},
     "output_type": "execute_result"
    }
   ],
   "source": [
    "df.iloc[842, 4:5]"
   ]
  },
  {
   "cell_type": "markdown",
   "id": "74af80eb",
   "metadata": {},
   "source": [
    "#### reading_score Aykrı Değerler"
   ]
  },
  {
   "cell_type": "code",
   "execution_count": 94,
   "id": "52b735bc",
   "metadata": {},
   "outputs": [
    {
     "data": {
      "text/plain": [
       "<Axes: xlabel='reading_score'>"
      ]
     },
     "execution_count": 94,
     "metadata": {},
     "output_type": "execute_result"
    },
    {
     "data": {
      "image/png": "[encoded data removed]",
      "text/plain": [
       "<Figure size 640x480 with 1 Axes>"
      ]
     },
     "metadata": {},
     "output_type": "display_data"
    }
   ],
   "source": [
    "sns.boxplot(x = df[\"reading_score\"])"
   ]
  },
  {
   "cell_type": "code",
   "execution_count": 95,
   "id": "3b84be4b",
   "metadata": {},
   "outputs": [
    {
     "name": "stdout",
     "output_type": "stream",
     "text": [
      "Alt Eşik: 29.0\n",
      "Üst Eşik: 109.0\n"
     ]
    }
   ],
   "source": [
    "q1 = df[\"reading_score\"].quantile(0.25)\n",
    "q3 = df[\"reading_score\"].quantile(0.75)\n",
    "\n",
    "iqr = q3 - q1\n",
    "\n",
    "alt_limit = q1 - 1.5 * iqr\n",
    "ust_limit = q3 + 1.5 * iqr\n",
    "\n",
    "print(f\"Alt Eşik: {alt_limit}\")\n",
    "print(f\"Üst Eşik: {ust_limit}\")"
   ]
  },
  {
   "cell_type": "code",
   "execution_count": 96,
   "id": "e0b683c6",
   "metadata": {},
   "outputs": [
    {
     "data": {
      "text/plain": [
       "59     17\n",
       "76     26\n",
       "211    28\n",
       "327    23\n",
       "596    24\n",
       "980    24\n",
       "Name: reading_score, dtype: int64"
      ]
     },
     "execution_count": 96,
     "metadata": {},
     "output_type": "execute_result"
    }
   ],
   "source": [
    "aykiri_reading_score = df.loc[(df[\"reading_score\"] < alt_limit) | (df[\"reading_score\"] > ust_limit), \"reading_score\"]\n",
    "aykiri_reading_score"
   ]
  },
  {
   "cell_type": "code",
   "execution_count": 97,
   "id": "f6946fdb",
   "metadata": {},
   "outputs": [],
   "source": [
    "df.loc[df[\"reading_score\"] > ust_limit, \"reading_score\"] = ust_limit"
   ]
  },
  {
   "cell_type": "code",
   "execution_count": 98,
   "id": "71250ee0",
   "metadata": {},
   "outputs": [],
   "source": [
    "df.loc[df[\"reading_score\"] < alt_limit, \"reading_score\"] = alt_limit"
   ]
  },
  {
   "cell_type": "code",
   "execution_count": 99,
   "id": "096457c1",
   "metadata": {},
   "outputs": [
    {
     "data": {
      "text/plain": [
       "reading_score    29.0\n",
       "Name: 211, dtype: float64"
      ]
     },
     "execution_count": 99,
     "metadata": {},
     "output_type": "execute_result"
    }
   ],
   "source": [
    "df.iloc[211, 5:6]"
   ]
  },
  {
   "cell_type": "markdown",
   "id": "97786d3e",
   "metadata": {},
   "source": [
    "#### writing_score Aykrı Değerler"
   ]
  },
  {
   "cell_type": "code",
   "execution_count": 100,
   "id": "2ff34f64",
   "metadata": {},
   "outputs": [
    {
     "data": {
      "text/plain": [
       "<Axes: xlabel='writing_score'>"
      ]
     },
     "execution_count": 100,
     "metadata": {},
     "output_type": "execute_result"
    },
    {
     "data": {
      "image/png": "[encoded data removed]",
      "text/plain": [
       "<Figure size 640x480 with 1 Axes>"
      ]
     },
     "metadata": {},
     "output_type": "display_data"
    }
   ],
   "source": [
    "sns.boxplot(x=df[\"writing_score\"])"
   ]
  },
  {
   "cell_type": "code",
   "execution_count": 101,
   "id": "c875a5b8",
   "metadata": {},
   "outputs": [
    {
     "name": "stdout",
     "output_type": "stream",
     "text": [
      "Alt Eşik: 25.875\n",
      "Üst Eşik: 110.875\n"
     ]
    }
   ],
   "source": [
    "q1 = df[\"writing_score\"].quantile(0.25)\n",
    "q3 = df[\"writing_score\"].quantile(0.75)\n",
    "\n",
    "iqr = q3 - q1\n",
    "\n",
    "alt_limit = q1 - 1.5 * iqr\n",
    "ust_limit = q3 + 1.5 * iqr\n",
    "\n",
    "print(f\"Alt Eşik: {alt_limit}\")\n",
    "print(f\"Üst Eşik: {ust_limit}\")"
   ]
  },
  {
   "cell_type": "code",
   "execution_count": 102,
   "id": "39f4d1fe",
   "metadata": {},
   "outputs": [
    {
     "data": {
      "text/plain": [
       "59     10\n",
       "76     22\n",
       "327    19\n",
       "596    15\n",
       "980    23\n",
       "Name: writing_score, dtype: int64"
      ]
     },
     "execution_count": 102,
     "metadata": {},
     "output_type": "execute_result"
    }
   ],
   "source": [
    "aykiri_writing_score = df.loc[(df[\"writing_score\"] > ust_limit) | (df[\"writing_score\"] < alt_limit), \"writing_score\"]\n",
    "aykiri_writing_score"
   ]
  },
  {
   "cell_type": "code",
   "execution_count": 103,
   "id": "e3980775",
   "metadata": {},
   "outputs": [],
   "source": [
    "df.loc[df[\"writing_score\"] > ust_limit, \"writing_score\"] = ust_limit"
   ]
  },
  {
   "cell_type": "code",
   "execution_count": 104,
   "id": "1628064f",
   "metadata": {},
   "outputs": [],
   "source": [
    "df.loc[df[\"writing_score\"] < alt_limit, \"writing_score\"] = alt_limit"
   ]
  },
  {
   "cell_type": "code",
   "execution_count": 105,
   "id": "2a65b3fd",
   "metadata": {},
   "outputs": [
    {
     "data": {
      "text/html": [
       "<div>\n",
       "<style scoped>\n",
       "    .dataframe tbody tr th:only-of-type {\n",
       "        vertical-align: middle;\n",
       "    }\n",
       "\n",
       "    .dataframe tbody tr th {\n",
       "        vertical-align: top;\n",
       "    }\n",
       "\n",
       "    .dataframe thead th {\n",
       "        text-align: right;\n",
       "    }\n",
       "</style>\n",
       "<table border=\"1\" class=\"dataframe\">\n",
       "  <thead>\n",
       "    <tr style=\"text-align: right;\">\n",
       "      <th></th>\n",
       "      <th>gender</th>\n",
       "      <th>parental_level_of_education</th>\n",
       "      <th>lunch</th>\n",
       "      <th>test_preparation_course</th>\n",
       "      <th>math_score</th>\n",
       "      <th>reading_score</th>\n",
       "      <th>writing_score</th>\n",
       "    </tr>\n",
       "  </thead>\n",
       "  <tbody>\n",
       "    <tr>\n",
       "      <th>0</th>\n",
       "      <td>0</td>\n",
       "      <td>4.0</td>\n",
       "      <td>1.0</td>\n",
       "      <td>1</td>\n",
       "      <td>72</td>\n",
       "      <td>72</td>\n",
       "      <td>74.0</td>\n",
       "    </tr>\n",
       "    <tr>\n",
       "      <th>1</th>\n",
       "      <td>0</td>\n",
       "      <td>2.0</td>\n",
       "      <td>1.0</td>\n",
       "      <td>0</td>\n",
       "      <td>69</td>\n",
       "      <td>90</td>\n",
       "      <td>88.0</td>\n",
       "    </tr>\n",
       "    <tr>\n",
       "      <th>2</th>\n",
       "      <td>0</td>\n",
       "      <td>5.0</td>\n",
       "      <td>1.0</td>\n",
       "      <td>1</td>\n",
       "      <td>90</td>\n",
       "      <td>95</td>\n",
       "      <td>93.0</td>\n",
       "    </tr>\n",
       "    <tr>\n",
       "      <th>3</th>\n",
       "      <td>1</td>\n",
       "      <td>3.0</td>\n",
       "      <td>0.0</td>\n",
       "      <td>1</td>\n",
       "      <td>47</td>\n",
       "      <td>57</td>\n",
       "      <td>44.0</td>\n",
       "    </tr>\n",
       "    <tr>\n",
       "      <th>4</th>\n",
       "      <td>1</td>\n",
       "      <td>2.0</td>\n",
       "      <td>1.0</td>\n",
       "      <td>1</td>\n",
       "      <td>76</td>\n",
       "      <td>78</td>\n",
       "      <td>75.0</td>\n",
       "    </tr>\n",
       "    <tr>\n",
       "      <th>...</th>\n",
       "      <td>...</td>\n",
       "      <td>...</td>\n",
       "      <td>...</td>\n",
       "      <td>...</td>\n",
       "      <td>...</td>\n",
       "      <td>...</td>\n",
       "      <td>...</td>\n",
       "    </tr>\n",
       "    <tr>\n",
       "      <th>995</th>\n",
       "      <td>0</td>\n",
       "      <td>5.0</td>\n",
       "      <td>1.0</td>\n",
       "      <td>0</td>\n",
       "      <td>88</td>\n",
       "      <td>99</td>\n",
       "      <td>95.0</td>\n",
       "    </tr>\n",
       "    <tr>\n",
       "      <th>996</th>\n",
       "      <td>1</td>\n",
       "      <td>1.0</td>\n",
       "      <td>0.0</td>\n",
       "      <td>1</td>\n",
       "      <td>62</td>\n",
       "      <td>55</td>\n",
       "      <td>55.0</td>\n",
       "    </tr>\n",
       "    <tr>\n",
       "      <th>997</th>\n",
       "      <td>0</td>\n",
       "      <td>1.0</td>\n",
       "      <td>0.0</td>\n",
       "      <td>0</td>\n",
       "      <td>59</td>\n",
       "      <td>71</td>\n",
       "      <td>65.0</td>\n",
       "    </tr>\n",
       "    <tr>\n",
       "      <th>998</th>\n",
       "      <td>0</td>\n",
       "      <td>2.0</td>\n",
       "      <td>1.0</td>\n",
       "      <td>0</td>\n",
       "      <td>68</td>\n",
       "      <td>78</td>\n",
       "      <td>77.0</td>\n",
       "    </tr>\n",
       "    <tr>\n",
       "      <th>999</th>\n",
       "      <td>0</td>\n",
       "      <td>2.0</td>\n",
       "      <td>0.0</td>\n",
       "      <td>1</td>\n",
       "      <td>77</td>\n",
       "      <td>86</td>\n",
       "      <td>86.0</td>\n",
       "    </tr>\n",
       "  </tbody>\n",
       "</table>\n",
       "<p>1000 rows × 7 columns</p>\n",
       "</div>"
      ],
      "text/plain": [
       "     gender  parental_level_of_education  lunch  test_preparation_course  \\\n",
       "0         0                          4.0    1.0                        1   \n",
       "1         0                          2.0    1.0                        0   \n",
       "2         0                          5.0    1.0                        1   \n",
       "3         1                          3.0    0.0                        1   \n",
       "4         1                          2.0    1.0                        1   \n",
       "..      ...                          ...    ...                      ...   \n",
       "995       0                          5.0    1.0                        0   \n",
       "996       1                          1.0    0.0                        1   \n",
       "997       0                          1.0    0.0                        0   \n",
       "998       0                          2.0    1.0                        0   \n",
       "999       0                          2.0    0.0                        1   \n",
       "\n",
       "     math_score  reading_score  writing_score  \n",
       "0            72             72           74.0  \n",
       "1            69             90           88.0  \n",
       "2            90             95           93.0  \n",
       "3            47             57           44.0  \n",
       "4            76             78           75.0  \n",
       "..          ...            ...            ...  \n",
       "995          88             99           95.0  \n",
       "996          62             55           55.0  \n",
       "997          59             71           65.0  \n",
       "998          68             78           77.0  \n",
       "999          77             86           86.0  \n",
       "\n",
       "[1000 rows x 7 columns]"
      ]
     },
     "execution_count": 105,
     "metadata": {},
     "output_type": "execute_result"
    }
   ],
   "source": [
    "# Veri setinin aykırı değerlerden arınmış hali\n",
    "df "
   ]
  },
  {
   "cell_type": "markdown",
   "id": "212d7325",
   "metadata": {},
   "source": [
    "### Model Kurma İçin Hazırlık"
   ]
  },
  {
   "cell_type": "code",
   "execution_count": 106,
   "id": "c7be9165",
   "metadata": {},
   "outputs": [
    {
     "data": {
      "text/plain": [
       "(array([ 22.,  34.,  62., 130., 179., 182., 176., 112.,  68.,  35.]),\n",
       " array([ 27. ,  34.3,  41.6,  48.9,  56.2,  63.5,  70.8,  78.1,  85.4,\n",
       "         92.7, 100. ]),\n",
       " <BarContainer object of 10 artists>)"
      ]
     },
     "execution_count": 106,
     "metadata": {},
     "output_type": "execute_result"
    },
    {
     "data": {
      "image/png": "[encoded data removed]",
      "text/plain": [
       "<Figure size 640x480 with 1 Axes>"
      ]
     },
     "metadata": {},
     "output_type": "display_data"
    }
   ],
   "source": [
    "# Bağımlı değişken(tahmin edilecek) değerlerin dağılımına göre hangi modelin kullanılacağını belirlemek.\n",
    "# Bu dağılım göre liner regresyon kullanmak doğru olur.\n",
    "plt.hist(df[\"math_score\"])"
   ]
  },
  {
   "cell_type": "code",
   "execution_count": 107,
   "id": "90890fcd",
   "metadata": {
    "scrolled": true
   },
   "outputs": [
    {
     "data": {
      "text/plain": [
       "test_preparation_course       -0.177323\n",
       "parental_level_of_education    0.157127\n",
       "gender                         0.165776\n",
       "lunch                          0.350788\n",
       "writing_score                  0.799954\n",
       "reading_score                  0.815727\n",
       "math_score                     1.000000\n",
       "Name: math_score, dtype: float64"
      ]
     },
     "execution_count": 107,
     "metadata": {},
     "output_type": "execute_result"
    }
   ],
   "source": [
    "# Değişkenler arasındaki korelasyona bakma\n",
    "# Korelasyon sonuçlarına göre bazı değişkenler çıkartılabilir fakat bu çalışmada herhangi bir değişken çıkartılmayacaktır.\n",
    "df.corr()[\"math_score\"].sort_values()"
   ]
  },
  {
   "cell_type": "code",
   "execution_count": 108,
   "id": "09c08885",
   "metadata": {},
   "outputs": [],
   "source": [
    "# 1.Değişkenlerin eğitim ve test kümesi olarak ayrılması için import edildi.\n",
    "# 2.Fakat öncesinde değişkenler bağımlı ve bağımsız değişken olarak ayrılmalı.\n",
    "# 3.Sonrasında bağımlı ve bağımsız değişkenler eğitim(train) ve test olarak ayrılmalı.\n",
    "from sklearn.model_selection import train_test_split"
   ]
  },
  {
   "cell_type": "code",
   "execution_count": 109,
   "id": "8459ccbd",
   "metadata": {},
   "outputs": [],
   "source": [
    "# İşlemlerin daha hızlı ve kolay yapılması için değerler \"values\" ile numpy dizisi(array)'ne eklendi.\n",
    "x = df.drop(\"math_score\", axis=1).values # Bağımsız değişkenler\n",
    "y = df[\"math_score\"].values # Bağımlı Değişken"
   ]
  },
  {
   "cell_type": "code",
   "execution_count": 110,
   "id": "8db4e1e2",
   "metadata": {},
   "outputs": [
    {
     "data": {
      "text/plain": [
       "array([[ 0.,  4.,  1.,  1., 72., 74.],\n",
       "       [ 0.,  2.,  1.,  0., 90., 88.],\n",
       "       [ 0.,  5.,  1.,  1., 95., 93.],\n",
       "       ...,\n",
       "       [ 0.,  1.,  0.,  0., 71., 65.],\n",
       "       [ 0.,  2.,  1.,  0., 78., 77.],\n",
       "       [ 0.,  2.,  0.,  1., 86., 86.]])"
      ]
     },
     "execution_count": 110,
     "metadata": {},
     "output_type": "execute_result"
    }
   ],
   "source": [
    "x"
   ]
  },
  {
   "cell_type": "code",
   "execution_count": 111,
   "id": "d4dc89f8",
   "metadata": {},
   "outputs": [
    {
     "data": {
      "text/plain": [
       "array([ 72,  69,  90,  47,  76,  71,  88,  40,  64,  38,  58,  40,  65,\n",
       "        78,  50,  69,  88,  27,  46,  54,  66,  65,  44,  69,  74,  73,\n",
       "        69,  67,  70,  62,  69,  63,  56,  40,  97,  81,  74,  50,  75,\n",
       "        57,  55,  58,  53,  59,  50,  65,  55,  66,  57,  82,  53,  77,\n",
       "        53,  88,  71,  33,  82,  52,  58,  27,  79,  39,  62,  69,  59,\n",
       "        67,  45,  60,  61,  39,  58,  63,  41,  61,  49,  44,  30,  80,\n",
       "        61,  62,  47,  49,  50,  72,  42,  73,  76,  71,  58,  73,  65,\n",
       "        27,  71,  43,  79,  78,  65,  63,  58,  65,  79,  68,  85,  60,\n",
       "        98,  58,  87,  66,  52,  70,  77,  62,  54,  51,  99,  84,  75,\n",
       "        78,  51,  55,  79,  91,  88,  63,  83,  87,  72,  65,  82,  51,\n",
       "        89,  53,  87,  75,  74,  58,  51,  70,  59,  71,  76,  59,  42,\n",
       "        57,  88,  27,  88,  73,  68, 100,  62,  77,  59,  54,  62,  70,\n",
       "        66,  60,  61,  66,  82,  75,  49,  52,  81,  96,  53,  58,  68,\n",
       "        67,  72,  94,  79,  63,  43,  81,  46,  71,  52,  97,  62,  46,\n",
       "        50,  65,  45,  65,  80,  62,  48,  77,  66,  76,  62,  77,  69,\n",
       "        61,  59,  55,  45,  78,  67,  65,  69,  57,  59,  74,  82,  81,\n",
       "        74,  58,  80,  35,  42,  60,  87,  84,  83,  34,  66,  61,  56,\n",
       "        87,  55,  86,  52,  45,  72,  57,  68,  88,  76,  46,  67,  92,\n",
       "        83,  80,  63,  64,  54,  84,  73,  80,  56,  59,  75,  85,  89,\n",
       "        58,  65,  68,  47,  71,  60,  80,  54,  62,  64,  78,  70,  65,\n",
       "        64,  79,  44,  99,  76,  59,  63,  69,  88,  71,  69,  58,  47,\n",
       "        65,  88,  83,  85,  59,  65,  73,  53,  45,  73,  70,  37,  81,\n",
       "        97,  67,  88,  77,  76,  86,  63,  65,  78,  67,  46,  71,  40,\n",
       "        90,  81,  56,  67,  80,  74,  69,  99,  51,  53,  49,  73,  66,\n",
       "        67,  68,  59,  71,  77,  83,  63,  56,  67,  75,  71,  43,  41,\n",
       "        82,  61,  28,  82,  41,  71,  47,  62,  90,  83,  61,  76,  49,\n",
       "        27,  35,  58,  61,  69,  67,  79,  72,  62,  77,  75,  87,  52,\n",
       "        66,  63,  46,  59,  61,  63,  42,  59,  80,  58,  85,  52,  27,\n",
       "        59,  49,  69,  61,  44,  73,  84,  45,  74,  82,  59,  46,  80,\n",
       "        85,  71,  66,  80,  87,  79,  38,  38,  67,  64,  57,  62,  73,\n",
       "        73,  77,  76,  57,  65,  48,  50,  85,  74,  60,  59,  53,  49,\n",
       "        88,  54,  63,  65,  82,  52,  87,  70,  84,  71,  63,  51,  84,\n",
       "        71,  74,  68,  57,  82,  57,  47,  59,  41,  62,  86,  69,  65,\n",
       "        68,  64,  61,  61,  47,  73,  50,  75,  75,  70,  89,  67,  78,\n",
       "        59,  73,  79,  67,  69,  86,  47,  81,  64, 100,  65,  65,  53,\n",
       "        37,  79,  53, 100,  72,  53,  54,  71,  77,  75,  84,  27,  72,\n",
       "        77,  91,  83,  63,  68,  59,  90,  71,  76,  80,  55,  76,  73,\n",
       "        52,  68,  59,  49,  70,  61,  60,  64,  79,  65,  64,  83,  81,\n",
       "        54,  68,  54,  59,  66,  76,  74,  94,  63,  95,  40,  82,  68,\n",
       "        55,  79,  86,  76,  64,  62,  54,  77,  76,  74,  66,  66,  67,\n",
       "        71,  91,  69,  54,  53,  68,  56,  36,  29,  62,  68,  47,  62,\n",
       "        79,  73,  66,  51,  51,  85,  97,  75,  79,  81,  82,  64,  78,\n",
       "        92,  72,  62,  79,  79,  87,  40,  77,  53,  32,  55,  61,  53,\n",
       "        73,  74,  63,  96,  63,  48,  48,  92,  61,  63,  68,  71,  91,\n",
       "        53,  50,  74,  40,  61,  81,  48,  53,  81,  77,  63,  73,  69,\n",
       "        65,  55,  44,  54,  48,  58,  71,  68,  74,  92,  56,  30,  53,\n",
       "        69,  65,  54,  29,  76,  60,  84,  75,  85,  40,  61,  58,  69,\n",
       "        58,  94,  65,  82,  60,  37,  88,  95,  65,  35,  62,  58, 100,\n",
       "        61, 100,  69,  61,  49,  44,  67,  79,  66,  75,  84,  71,  67,\n",
       "        80,  86,  76,  41,  74,  72,  74,  70,  65,  59,  64,  50,  69,\n",
       "        51,  68,  85,  65,  73,  62,  77,  69,  43,  90,  74,  73,  55,\n",
       "        65,  80,  50,  63,  77,  73,  81,  66,  52,  69,  65,  69,  50,\n",
       "        73,  70,  81,  63,  67,  60,  62,  29,  62,  94,  85,  77,  53,\n",
       "        93,  49,  73,  66,  77,  49,  79,  75,  59,  57,  66,  79,  57,\n",
       "        87,  63,  59,  62,  46,  66,  89,  42,  93,  80,  98,  81,  60,\n",
       "        76,  73,  96,  76,  91,  62,  55,  74,  50,  47,  81,  65,  68,\n",
       "        73,  53,  68,  55,  87,  55,  53,  67,  92,  53,  81,  61,  80,\n",
       "        37,  81,  59,  55,  72,  69,  69,  50,  87,  71,  68,  79,  77,\n",
       "        58,  84,  55,  70,  52,  69,  53,  48,  78,  62,  60,  74,  58,\n",
       "        76,  68,  58,  52,  75,  52,  62,  66,  49,  66,  35,  72,  94,\n",
       "        46,  77,  76,  52,  91,  32,  72,  27,  68,  52,  48,  60,  66,\n",
       "        89,  42,  57,  70,  70,  69,  52,  67,  76,  87,  82,  73,  75,\n",
       "        64,  41,  90,  59,  51,  45,  54,  87,  72,  94,  45,  61,  60,\n",
       "        77,  85,  78,  49,  71,  48,  62,  56,  65,  69,  68,  61,  74,\n",
       "        64,  77,  58,  60,  73,  75,  58,  66,  39,  64,  27,  74,  40,\n",
       "        90,  91,  64,  59,  80,  71,  61,  87,  82,  62,  97,  75,  65,\n",
       "        52,  87,  53,  81,  39,  71,  97,  82,  59,  61,  78,  49,  59,\n",
       "        70,  82,  90,  43,  80,  81,  57,  59,  64,  63,  71,  64,  55,\n",
       "        51,  62,  93,  54,  69,  44,  86,  85,  50,  88,  59,  32,  36,\n",
       "        63,  67,  65,  85,  73,  34,  93,  67,  88,  57,  79,  67,  70,\n",
       "        50,  69,  52,  47,  46,  68, 100,  44,  57,  91,  69,  35,  72,\n",
       "        54,  74,  74,  64,  65,  46,  48,  67,  62,  61,  70,  98,  70,\n",
       "        67,  57,  85,  77,  72,  78,  81,  61,  58,  54,  82,  49,  49,\n",
       "        57,  94,  75,  74,  58,  62,  72,  84,  92,  45,  75,  56,  48,\n",
       "       100,  65,  72,  62,  66,  63,  68,  75,  89,  78,  53,  49,  54,\n",
       "        64,  60,  62,  55,  91,  27,  81,  79,  78,  74,  57,  40,  81,\n",
       "        44,  67,  86,  65,  55,  62,  63,  88,  62,  59,  68,  77],\n",
       "      dtype=int64)"
      ]
     },
     "execution_count": 111,
     "metadata": {},
     "output_type": "execute_result"
    }
   ],
   "source": [
    "y"
   ]
  },
  {
   "cell_type": "code",
   "execution_count": 112,
   "id": "eb5db53c",
   "metadata": {},
   "outputs": [],
   "source": [
    "# Bağımlı ve bağımsız değişkenleri eğitim(train) ve test olarak ayırma\n",
    "x_train, x_test, y_train, y_test = train_test_split(x, y, test_size=0.33,random_state=0)"
   ]
  },
  {
   "cell_type": "markdown",
   "id": "ec29afc1",
   "metadata": {},
   "source": [
    "### Sayısal değerleri 0-1 arasında temsil etme"
   ]
  },
  {
   "cell_type": "code",
   "execution_count": 113,
   "id": "6a826e21",
   "metadata": {},
   "outputs": [],
   "source": [
    "# Değerlerin 0-1 arasında temsil etmek için\n",
    "from sklearn.preprocessing import MinMaxScaler"
   ]
  },
  {
   "cell_type": "code",
   "execution_count": 114,
   "id": "b3b5885c",
   "metadata": {},
   "outputs": [],
   "source": [
    "scaler = MinMaxScaler()"
   ]
  },
  {
   "cell_type": "code",
   "execution_count": 115,
   "id": "5e530580",
   "metadata": {},
   "outputs": [],
   "source": [
    "x_train = scaler.fit_transform(x_train)\n",
    "x_test = scaler.fit_transform(x_test)"
   ]
  },
  {
   "cell_type": "markdown",
   "id": "11f9b1c5",
   "metadata": {},
   "source": [
    "### MODEL KURMA"
   ]
  },
  {
   "cell_type": "code",
   "execution_count": 116,
   "id": "d2ca71d2",
   "metadata": {},
   "outputs": [],
   "source": [
    "from sklearn.linear_model import LinearRegression"
   ]
  },
  {
   "cell_type": "code",
   "execution_count": 117,
   "id": "6bc77671",
   "metadata": {},
   "outputs": [],
   "source": [
    "lin_reg = LinearRegression()"
   ]
  },
  {
   "cell_type": "code",
   "execution_count": 118,
   "id": "8879e63d",
   "metadata": {},
   "outputs": [
    {
     "data": {
      "text/html": [
       "<style>#sk-container-id-1 {color: black;background-color: white;}#sk-container-id-1 pre{padding: 0;}#sk-container-id-1 div.sk-toggleable {background-color: white;}#sk-container-id-1 label.sk-toggleable__label {cursor: pointer;display: block;width: 100%;margin-bottom: 0;padding: 0.3em;box-sizing: border-box;text-align: center;}#sk-container-id-1 label.sk-toggleable__label-arrow:before {content: \"▸\";float: left;margin-right: 0.25em;color: #696969;}#sk-container-id-1 label.sk-toggleable__label-arrow:hover:before {color: black;}#sk-container-id-1 div.sk-estimator:hover label.sk-toggleable__label-arrow:before {color: black;}#sk-container-id-1 div.sk-toggleable__content {max-height: 0;max-width: 0;overflow: hidden;text-align: left;background-color: #f0f8ff;}#sk-container-id-1 div.sk-toggleable__content pre {margin: 0.2em;color: black;border-radius: 0.25em;background-color: #f0f8ff;}#sk-container-id-1 input.sk-toggleable__control:checked~div.sk-toggleable__content {max-height: 200px;max-width: 100%;overflow: auto;}#sk-container-id-1 input.sk-toggleable__control:checked~label.sk-toggleable__label-arrow:before {content: \"▾\";}#sk-container-id-1 div.sk-estimator input.sk-toggleable__control:checked~label.sk-toggleable__label {background-color: #d4ebff;}#sk-container-id-1 div.sk-label input.sk-toggleable__control:checked~label.sk-toggleable__label {background-color: #d4ebff;}#sk-container-id-1 input.sk-hidden--visually {border: 0;clip: rect(1px 1px 1px 1px);clip: rect(1px, 1px, 1px, 1px);height: 1px;margin: -1px;overflow: hidden;padding: 0;position: absolute;width: 1px;}#sk-container-id-1 div.sk-estimator {font-family: monospace;background-color: #f0f8ff;border: 1px dotted black;border-radius: 0.25em;box-sizing: border-box;margin-bottom: 0.5em;}#sk-container-id-1 div.sk-estimator:hover {background-color: #d4ebff;}#sk-container-id-1 div.sk-parallel-item::after {content: \"\";width: 100%;border-bottom: 1px solid gray;flex-grow: 1;}#sk-container-id-1 div.sk-label:hover label.sk-toggleable__label {background-color: #d4ebff;}#sk-container-id-1 div.sk-serial::before {content: \"\";position: absolute;border-left: 1px solid gray;box-sizing: border-box;top: 0;bottom: 0;left: 50%;z-index: 0;}#sk-container-id-1 div.sk-serial {display: flex;flex-direction: column;align-items: center;background-color: white;padding-right: 0.2em;padding-left: 0.2em;position: relative;}#sk-container-id-1 div.sk-item {position: relative;z-index: 1;}#sk-container-id-1 div.sk-parallel {display: flex;align-items: stretch;justify-content: center;background-color: white;position: relative;}#sk-container-id-1 div.sk-item::before, #sk-container-id-1 div.sk-parallel-item::before {content: \"\";position: absolute;border-left: 1px solid gray;box-sizing: border-box;top: 0;bottom: 0;left: 50%;z-index: -1;}#sk-container-id-1 div.sk-parallel-item {display: flex;flex-direction: column;z-index: 1;position: relative;background-color: white;}#sk-container-id-1 div.sk-parallel-item:first-child::after {align-self: flex-end;width: 50%;}#sk-container-id-1 div.sk-parallel-item:last-child::after {align-self: flex-start;width: 50%;}#sk-container-id-1 div.sk-parallel-item:only-child::after {width: 0;}#sk-container-id-1 div.sk-dashed-wrapped {border: 1px dashed gray;margin: 0 0.4em 0.5em 0.4em;box-sizing: border-box;padding-bottom: 0.4em;background-color: white;}#sk-container-id-1 div.sk-label label {font-family: monospace;font-weight: bold;display: inline-block;line-height: 1.2em;}#sk-container-id-1 div.sk-label-container {text-align: center;}#sk-container-id-1 div.sk-container {/* jupyter's `normalize.less` sets `[hidden] { display: none; }` but bootstrap.min.css set `[hidden] { display: none !important; }` so we also need the `!important` here to be able to override the default hidden behavior on the sphinx rendered scikit-learn.org. See: https://github.com/scikit-learn/scikit-learn/issues/21755 */display: inline-block !important;position: relative;}#sk-container-id-1 div.sk-text-repr-fallback {display: none;}</style><div id=\"sk-container-id-1\" class=\"sk-top-container\"><div class=\"sk-text-repr-fallback\"><pre>LinearRegression()</pre><b>In a Jupyter environment, please rerun this cell to show the HTML representation or trust the notebook. <br />On GitHub, the HTML representation is unable to render, please try loading this page with nbviewer.org.</b></div><div class=\"sk-container\" hidden><div class=\"sk-item\"><div class=\"sk-estimator sk-toggleable\"><input class=\"sk-toggleable__control sk-hidden--visually\" id=\"sk-estimator-id-1\" type=\"checkbox\" checked><label for=\"sk-estimator-id-1\" class=\"sk-toggleable__label sk-toggleable__label-arrow\">LinearRegression</label><div class=\"sk-toggleable__content\"><pre>LinearRegression()</pre></div></div></div></div></div>"
      ],
      "text/plain": [
       "LinearRegression()"
      ]
     },
     "execution_count": 118,
     "metadata": {},
     "output_type": "execute_result"
    }
   ],
   "source": [
    "lin_reg.fit(x_train, y_train)"
   ]
  },
  {
   "cell_type": "code",
   "execution_count": 119,
   "id": "9207a185",
   "metadata": {},
   "outputs": [
    {
     "data": {
      "text/plain": [
       "array([63.24491367, 75.59073471, 49.84284966, 67.26480029, 70.45128203,\n",
       "       74.21175768, 66.00448111, 49.17233616, 85.99182407, 43.28333993,\n",
       "       44.9981567 , 60.42039661, 81.82240793, 86.16763969, 44.96213603,\n",
       "       34.22746229, 57.69620787, 76.9416943 , 49.15467498, 82.21206072,\n",
       "       56.35322155, 47.6189886 , 72.01656928, 64.05637832, 47.94063331,\n",
       "       65.73486179, 62.64078174, 50.24907426, 57.99428235, 78.71366883,\n",
       "       74.72307046, 91.05073987, 86.03978442, 55.21500976, 44.41611647,\n",
       "       88.52098253, 91.96620333, 58.65860403, 68.81162323, 69.70272303,\n",
       "       72.26544257, 59.5310581 , 74.55269008, 68.45939311, 73.65763008,\n",
       "       51.13841276, 83.49472607, 54.37295969, 76.77657752, 52.40719572,\n",
       "       42.61422844, 64.12340186, 42.87027808, 62.88281778, 39.15942455,\n",
       "       66.22787141, 47.06421904, 67.66895097, 79.82544305, 54.17709633,\n",
       "       70.20826145, 70.38773441, 41.97917828, 77.88580403, 71.30364527,\n",
       "       67.5622328 , 76.90603292, 48.50053526, 61.35733975, 55.31466615,\n",
       "       78.66510961, 81.99915177, 78.1544388 , 59.55001646, 56.89825656,\n",
       "       68.41958389, 78.73788102, 77.29568571, 24.81523663, 73.71369848,\n",
       "       81.47225173, 81.63915618, 63.92852305, 89.64389331, 70.46734308,\n",
       "       67.66211372, 69.57864654, 79.96414863, 63.8945763 , 51.42535069,\n",
       "       65.29219907, 61.18092525, 55.51117148, 59.76019628, 81.37943258,\n",
       "       79.22195309, 51.99110535, 62.30924132, 65.5764211 , 69.05127272,\n",
       "       38.03302124, 87.61283714, 69.87675098, 31.5772858 , 82.31510493,\n",
       "       68.33262721, 58.98535117, 51.89652491, 54.86277964, 87.72430201,\n",
       "       61.04045837, 68.18200832, 26.79770362, 55.56210749, 64.87501933,\n",
       "       69.15462955, 81.97510074, 76.49566048, 81.57462402, 53.18777209,\n",
       "       47.34160382, 75.58597139, 82.99327906, 87.74375087, 71.91254052,\n",
       "       52.74412482, 80.36223881, 65.22865145, 72.95252787, 56.70545167,\n",
       "       69.2189372 , 74.93359286, 31.91859502, 88.20410116, 77.65905239,\n",
       "       50.83315845, 68.18884557, 66.84902255, 64.71657864, 89.93865303,\n",
       "       76.28356789, 65.10830535, 58.20480475, 62.80797244, 73.547436  ,\n",
       "       40.01310168, 35.33032533, 47.04445755, 74.0673306 , 90.17861514,\n",
       "       51.53442902, 67.85797707, 90.02463493, 70.02369581, 68.85779591,\n",
       "       77.53704983, 53.60049136, 52.14845666, 49.59925046, 55.62024981,\n",
       "       90.71987137, 47.32075296, 53.13806715, 97.59754988, 55.68090989,\n",
       "       73.63885314, 70.01893248, 72.03423046, 60.72326437, 68.02325501,\n",
       "       52.61963088, 58.27214092, 26.45422351, 56.2710282 , 81.36384532,\n",
       "       74.11686461, 67.44121479, 49.04655482, 86.05775823, 83.10316052,\n",
       "       64.58709685, 76.60316516, 66.45936976, 72.70126804, 71.08229894,\n",
       "       73.36830561, 87.46667872, 92.43945147, 68.46894625, 49.0159694 ,\n",
       "       53.85034919, 64.72341589, 52.00032915, 72.8861463 , 61.96592237,\n",
       "       64.28184254, 76.62321289, 81.67686509, 62.60574562, 72.63772042,\n",
       "       77.83180955, 73.34857051, 57.08249285, 87.3364369 , 73.32146101,\n",
       "       47.86102464, 76.22340809, 79.25046459, 69.21209995, 68.92083277,\n",
       "       49.48030637, 92.66012588, 52.613883  , 60.27185164, 29.16187039,\n",
       "       66.31146676, 76.31415331, 70.82117333, 59.80636896, 69.34841899,\n",
       "       79.91651762, 71.24410095, 64.72548981, 71.89555126, 66.58613565,\n",
       "       79.61300789, 88.16808049, 63.42676341, 44.022477  , 54.6129218 ,\n",
       "       38.00515171, 58.73409134, 52.75096207, 46.06359707, 60.47340654,\n",
       "       60.5471625 , 67.70161031, 65.44792386, 72.60029775, 56.33664974,\n",
       "       69.1913803 , 47.11821352, 75.01750084, 65.66991217, 70.47132976,\n",
       "       67.93282241, 67.5125842 , 85.72290305, 60.62200784, 77.54758752,\n",
       "       79.88484283, 76.008899  , 75.08312238, 74.06178076, 42.83761874,\n",
       "       69.34267111, 49.2678712 , 83.2901127 , 72.25762077, 75.20346847,\n",
       "       57.77089204, 75.22895145, 71.71734909, 66.17374573, 60.66243264,\n",
       "       73.11943232, 81.8506068 , 66.75718795, 65.44108661, 72.28134245,\n",
       "       76.08501513, 68.75316828, 57.42549917, 55.00733792, 66.36753516,\n",
       "       69.82068258, 48.19049114, 54.10160902, 71.55207115, 76.30492952,\n",
       "       89.51157757, 68.14427303, 69.59967882, 73.15478107, 67.12739188,\n",
       "       60.23344442, 83.99457295, 69.22849034, 64.44266978, 54.92980318,\n",
       "       75.90792871, 80.04883336, 79.53676055, 56.1506821 , 70.93168005,\n",
       "       63.17929213, 67.5985661 , 74.45558139, 61.56850412, 59.30559387,\n",
       "       64.32024976, 60.19602175, 74.66288417, 63.6334507 , 73.84155375,\n",
       "       70.84093482, 68.56451124, 46.80340606, 70.18312104, 53.01037304,\n",
       "       86.77112965, 73.59169592, 61.70858532, 72.31161525, 83.69535275,\n",
       "       77.16575652, 79.4830787 , 84.61157624, 63.91130927, 86.18768742,\n",
       "       90.81269052, 74.62753542, 44.7591228 , 72.67371114, 67.26371092,\n",
       "       35.42879538, 62.16209835, 80.59376354, 84.98516798, 78.2026854 ])"
      ]
     },
     "execution_count": 119,
     "metadata": {},
     "output_type": "execute_result"
    }
   ],
   "source": [
    "tahmin = lin_reg.predict(x_test)\n",
    "tahmin # y_test ile karşılaştırılmalı"
   ]
  },
  {
   "cell_type": "markdown",
   "id": "4c9a631e",
   "metadata": {},
   "source": [
    "Tahmin\n",
    "- Verilen bağımsız değişken değerlerine göre bağımlı değişken tahmin edilmiştir."
   ]
  },
  {
   "cell_type": "code",
   "execution_count": 120,
   "id": "9eb38904",
   "metadata": {},
   "outputs": [
    {
     "data": {
      "text/plain": [
       "array([5281.23553799])"
      ]
     },
     "execution_count": 120,
     "metadata": {},
     "output_type": "execute_result"
    }
   ],
   "source": [
    "lin_reg.predict([[0, 4.0, 1.0, 1, 72, 74.0]])"
   ]
  },
  {
   "cell_type": "code",
   "execution_count": 121,
   "id": "378c52e3",
   "metadata": {},
   "outputs": [
    {
     "data": {
      "text/plain": [
       "array([5564.88872095])"
      ]
     },
     "execution_count": 121,
     "metadata": {},
     "output_type": "execute_result"
    }
   ],
   "source": [
    "lin_reg.predict([[0,2,1,0,78,77]])"
   ]
  },
  {
   "cell_type": "markdown",
   "id": "70d0f8a4",
   "metadata": {},
   "source": [
    "### Model Değerlendirme\n",
    "- r2_score: Modelin doğruluğu için yüksek bir değer beklenir. 0 ile 1 aralığında değer alabilir.\n",
    "- mean_absolute_error: Modelin doğruluğu için düşük bir değer beklenir. 0 ile sonsuz aralığında değer alabilir.\n",
    "- mean_squared_error: Modelin doğruluğu için düşük bir değer beklenir. 0 ile sonsuz aralığında değer alabilir."
   ]
  },
  {
   "cell_type": "code",
   "execution_count": 127,
   "id": "4b59593c",
   "metadata": {},
   "outputs": [],
   "source": [
    "# Modelin Başarısını Ölçme\n",
    "from sklearn.metrics import r2_score \n",
    "from sklearn.metrics import mean_absolute_error \n",
    "from sklearn.metrics import mean_squared_error"
   ]
  },
  {
   "cell_type": "code",
   "execution_count": 128,
   "id": "097bfbcf",
   "metadata": {},
   "outputs": [
    {
     "data": {
      "text/plain": [
       "0.847978261629213"
      ]
     },
     "execution_count": 128,
     "metadata": {},
     "output_type": "execute_result"
    }
   ],
   "source": [
    "r2_score(y_test, tahmin)"
   ]
  },
  {
   "cell_type": "code",
   "execution_count": 129,
   "id": "645823cd",
   "metadata": {},
   "outputs": [
    {
     "data": {
      "text/plain": [
       "4.382555886120624"
      ]
     },
     "execution_count": 129,
     "metadata": {},
     "output_type": "execute_result"
    }
   ],
   "source": [
    "mean_absolute_error(y_test, tahmin)"
   ]
  },
  {
   "cell_type": "code",
   "execution_count": 130,
   "id": "c7d63735",
   "metadata": {},
   "outputs": [
    {
     "data": {
      "text/plain": [
       "31.385116826640648"
      ]
     },
     "execution_count": 130,
     "metadata": {},
     "output_type": "execute_result"
    }
   ],
   "source": [
    "mean_squared_error(y_test, tahmin)"
   ]
  }
 ],
 "metadata": {
  "kernelspec": {
   "display_name": "Python 3 (ipykernel)",
   "language": "python",
   "name": "python3"
  },
  "language_info": {
   "codemirror_mode": {
    "name": "ipython",
    "version": 3
   },
   "file_extension": ".py",
   "mimetype": "text/x-python",
   "name": "python",
   "nbconvert_exporter": "python",
   "pygments_lexer": "ipython3",
   "version": "3.10.9"
  }
 },
 "nbformat": 4,
 "nbformat_minor": 5
}
